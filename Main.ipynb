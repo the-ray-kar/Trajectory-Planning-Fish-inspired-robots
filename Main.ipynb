{
 "cells": [
  {
   "cell_type": "markdown",
   "metadata": {},
   "source": [
    "# Found methods\n",
    "1) To control the robot in from pyrep, change the target node. And it would follow it.\n",
    "<br>2) Perform regular checks using pyrep and update way_points regularly\n",
    "<br>3) Create a function which steps one simulation and updates the waypoint via checking whether fish is near the waypoint\n",
    "\n",
    "\n",
    "<br> The above methods are required for better performance\n"
   ]
  },
  {
   "cell_type": "markdown",
   "metadata": {},
   "source": [
    "# Issues\n",
    "<br> 1. The path is not consistent. It passes through way-points\n",
    "<br> Solved: Rounding gcost to two decimal places removes the minute difference in gcosts.\n",
    "<br> 2. Scanning is not proper\n",
    "<br> Solved: rd, ru, cl,cr were interchanged due to misinterpretation. \n",
    "<br> Goal condition is making the program slow\n",
    "<br> Look for head on collision. Collision is can happen behind the robot, if obstacle has highspeed and goes for headon collision\n"
   ]
  },
  {
   "cell_type": "markdown",
   "metadata": {},
   "source": [
    "# This version info\n",
    "1) The start point plot hasbeen added. And edge cost are no longer updated by the getchildren one. This solved the problem.\n",
    "<br> 2) The limit of way-point to check is a issue currently\n",
    "<br> 3) The scanning rectangle centre is some distance(window size) ahead of the robot facing. \n",
    "<br> 3.1) This is dstar 1st version. 2nd version has issues. \n",
    "<br> 4) Waypoints check = int(win/1.2)\n",
    "<br> 5) The way-point check is not checking the waypoints instead some other point. This needs to be solved. - seems solved\n",
    "<br> 6) made update map efficient\n",
    "<br> 7) Uses transformation matrices for next state.\n",
    "<br> 8) Make changes in previous version state[2] = 2*math.pi+state[2] #if theta is negative. get the correct theta.changes. Please its positive sign not neg"
   ]
  },
  {
   "cell_type": "code",
   "execution_count": 2,
   "metadata": {},
   "outputs": [
    {
     "ename": "ImportError",
     "evalue": "libcoppeliaSim.so.1: cannot open shared object file: No such file or directory",
     "output_type": "error",
     "traceback": [
      "\u001b[0;31m---------------------------------------------------------------------------\u001b[0m",
      "\u001b[0;31mImportError\u001b[0m                               Traceback (most recent call last)",
      "\u001b[0;32m<ipython-input-2-1e26a7af2485>\u001b[0m in \u001b[0;36m<module>\u001b[0;34m\u001b[0m\n\u001b[1;32m     16\u001b[0m \u001b[0;34m\u001b[0m\u001b[0m\n\u001b[1;32m     17\u001b[0m \u001b[0;31m# initialise Vrep parameters\u001b[0m\u001b[0;34m\u001b[0m\u001b[0;34m\u001b[0m\u001b[0;34m\u001b[0m\u001b[0m\n\u001b[0;32m---> 18\u001b[0;31m \u001b[0;32mfrom\u001b[0m \u001b[0mpyrep\u001b[0m \u001b[0;32mimport\u001b[0m \u001b[0mPyRep\u001b[0m\u001b[0;34m\u001b[0m\u001b[0;34m\u001b[0m\u001b[0m\n\u001b[0m\u001b[1;32m     19\u001b[0m \u001b[0mpr\u001b[0m \u001b[0;34m=\u001b[0m \u001b[0mPyRep\u001b[0m\u001b[0;34m(\u001b[0m\u001b[0;34m)\u001b[0m\u001b[0;34m\u001b[0m\u001b[0;34m\u001b[0m\u001b[0m\n\u001b[1;32m     20\u001b[0m \u001b[0;32mfrom\u001b[0m \u001b[0mpyrep\u001b[0m\u001b[0;34m.\u001b[0m\u001b[0mobjects\u001b[0m\u001b[0;34m.\u001b[0m\u001b[0mobject\u001b[0m \u001b[0;32mimport\u001b[0m \u001b[0mObject\u001b[0m\u001b[0;34m\u001b[0m\u001b[0;34m\u001b[0m\u001b[0m\n",
      "\u001b[0;32m~/.local/lib/python3.6/site-packages/pyrep/__init__.py\u001b[0m in \u001b[0;36m<module>\u001b[0;34m\u001b[0m\n\u001b[1;32m      4\u001b[0m \u001b[0msuppress_std_out_err\u001b[0m \u001b[0;34m=\u001b[0m \u001b[0;32mTrue\u001b[0m\u001b[0;34m\u001b[0m\u001b[0;34m\u001b[0m\u001b[0m\n\u001b[1;32m      5\u001b[0m \u001b[0;34m\u001b[0m\u001b[0m\n\u001b[0;32m----> 6\u001b[0;31m \u001b[0;32mfrom\u001b[0m \u001b[0;34m.\u001b[0m\u001b[0mpyrep\u001b[0m \u001b[0;32mimport\u001b[0m \u001b[0mPyRep\u001b[0m\u001b[0;34m\u001b[0m\u001b[0;34m\u001b[0m\u001b[0m\n\u001b[0m",
      "\u001b[0;32m~/.local/lib/python3.6/site-packages/pyrep/pyrep.py\u001b[0m in \u001b[0;36m<module>\u001b[0;34m\u001b[0m\n\u001b[1;32m      1\u001b[0m \u001b[0;32mimport\u001b[0m \u001b[0mnumpy\u001b[0m \u001b[0;32mas\u001b[0m \u001b[0mnp\u001b[0m\u001b[0;34m\u001b[0m\u001b[0;34m\u001b[0m\u001b[0m\n\u001b[1;32m      2\u001b[0m \u001b[0;32mfrom\u001b[0m \u001b[0mcontextlib\u001b[0m \u001b[0;32mimport\u001b[0m \u001b[0mcontextmanager\u001b[0m\u001b[0;34m\u001b[0m\u001b[0;34m\u001b[0m\u001b[0m\n\u001b[0;32m----> 3\u001b[0;31m \u001b[0;32mfrom\u001b[0m \u001b[0mpyrep\u001b[0m\u001b[0;34m.\u001b[0m\u001b[0mbackend\u001b[0m \u001b[0;32mimport\u001b[0m \u001b[0msim\u001b[0m\u001b[0;34m,\u001b[0m \u001b[0mutils\u001b[0m\u001b[0;34m\u001b[0m\u001b[0;34m\u001b[0m\u001b[0m\n\u001b[0m\u001b[1;32m      4\u001b[0m \u001b[0;32mfrom\u001b[0m \u001b[0mpyrep\u001b[0m\u001b[0;34m.\u001b[0m\u001b[0mobjects\u001b[0m\u001b[0;34m.\u001b[0m\u001b[0mobject\u001b[0m \u001b[0;32mimport\u001b[0m \u001b[0mObject\u001b[0m\u001b[0;34m\u001b[0m\u001b[0;34m\u001b[0m\u001b[0m\n\u001b[1;32m      5\u001b[0m \u001b[0;32mfrom\u001b[0m \u001b[0mpyrep\u001b[0m\u001b[0;34m.\u001b[0m\u001b[0mobjects\u001b[0m\u001b[0;34m.\u001b[0m\u001b[0mshape\u001b[0m \u001b[0;32mimport\u001b[0m \u001b[0mShape\u001b[0m\u001b[0;34m\u001b[0m\u001b[0;34m\u001b[0m\u001b[0m\n",
      "\u001b[0;32m~/.local/lib/python3.6/site-packages/pyrep/backend/sim.py\u001b[0m in \u001b[0;36m<module>\u001b[0;34m\u001b[0m\n\u001b[1;32m      1\u001b[0m \u001b[0;32mfrom\u001b[0m \u001b[0;34m.\u001b[0m\u001b[0msimConst\u001b[0m \u001b[0;32mimport\u001b[0m \u001b[0;34m*\u001b[0m\u001b[0;34m\u001b[0m\u001b[0;34m\u001b[0m\u001b[0m\n\u001b[0;32m----> 2\u001b[0;31m \u001b[0;32mfrom\u001b[0m \u001b[0;34m.\u001b[0m\u001b[0m_sim_cffi\u001b[0m \u001b[0;32mimport\u001b[0m \u001b[0mffi\u001b[0m\u001b[0;34m,\u001b[0m \u001b[0mlib\u001b[0m\u001b[0;34m\u001b[0m\u001b[0;34m\u001b[0m\u001b[0m\n\u001b[0m\u001b[1;32m      3\u001b[0m \u001b[0;32mimport\u001b[0m \u001b[0mnumpy\u001b[0m \u001b[0;32mas\u001b[0m \u001b[0mnp\u001b[0m\u001b[0;34m\u001b[0m\u001b[0;34m\u001b[0m\u001b[0m\n\u001b[1;32m      4\u001b[0m \u001b[0;32mimport\u001b[0m \u001b[0mcollections\u001b[0m\u001b[0;34m\u001b[0m\u001b[0;34m\u001b[0m\u001b[0m\n\u001b[1;32m      5\u001b[0m \u001b[0;34m\u001b[0m\u001b[0m\n",
      "\u001b[0;31mImportError\u001b[0m: libcoppeliaSim.so.1: cannot open shared object file: No such file or directory"
     ]
    }
   ],
   "source": [
    "import numpy as np\n",
    "import matplotlib.pyplot as plt\n",
    "import matplotlib.patches as patches\n",
    "import pandas as pd\n",
    "import time\n",
    "import math\n",
    "import random\n",
    "from IPython.display import clear_output\n",
    "import sys\n",
    "\n",
    "import heapq as hq #for priority que\n",
    "\n",
    "\n",
    "import threading #for simulating and multipath program|ming\n",
    "\n",
    "\n",
    "# initialise Vrep parameters\n",
    "from pyrep import PyRep\n",
    "pr = PyRep()\n",
    "from pyrep.objects.object import Object\n",
    "from pyrep.objects.joint import Joint\n",
    "from pyrep.objects.shape import Shape\n",
    "from pyrep import const\n",
    "\n"
   ]
  },
  {
   "cell_type": "code",
   "execution_count": 6,
   "metadata": {},
   "outputs": [],
   "source": [
    "# state is np array (x,y,theta) \n",
    "# action is np array (dx,dy,dtheta)\n",
    "\n",
    "\n",
    "\n",
    "def get_next_state_old(state1,action):\n",
    "    \n",
    "    state = np.copy(state1) # create the new state\n",
    "    \n",
    "    state[0] = state[0] + action[0]*math.cos(state[2]) - action[1]*math.sin(state[2])#get x\n",
    "    state[1] = state[1] + action[0]*math.sin(state[2]) + action[1]*math.cos(state[2])#get y\n",
    "    if(state[2]<0):\n",
    "        state[2] = 2*math.pi+state[2] #if theta is negative. get the correct theta.changes. Please\n",
    "    state[2] = (state[2] + action[2])%(2*math.pi) # get theta\n",
    "    \n",
    "    return state\n",
    "\n",
    "def get_next_state(state1,action):\n",
    "    \n",
    "    state = np.copy(state1) # create the new state\n",
    "    atm = np.identity(3,dtype = float)\n",
    "    atm[0,0] = np.cos(action[2]); atm[0,1] = -np.sin(action[2]); atm[0,2] = action[0];\n",
    "    atm[1,0] = np.sin(action[2]); atm[1,1] = np.cos(action[2]);  atm[1,2] = action[1];\n",
    "    #print(atm)\n",
    "    aitm =  np.linalg.inv(atm)\n",
    "    \n",
    "    tm = np.identity(3,dtype = float)\n",
    "    tm[0,0] = np.cos(state[2]); tm[0,1] = -np.sin(state[2]); tm[0,2] = state[0];\n",
    "    tm[1,0] = np.sin(state[2]); tm[1,1] =  np.cos(state[2]); tm[1,2] = state[1];\n",
    "    #print(tm)\n",
    "    new_tm = np.dot(tm,aitm) #get new transformation matrix\n",
    "    #print(new_tm)\n",
    "    state[0] = new_tm[0,2]\n",
    "    state[1] = new_tm[1,2] #get the states\n",
    "    \n",
    "  \n",
    "    state[2] = (state[2] - action[2])\n",
    "   # print(\"2.5\",state[2])\n",
    "    if(state[2]<0):\n",
    "        state[2] = 2*math.pi+state[2] #if theta is negative. get the correct theta. Again do the same thing\n",
    "    #print(\"3\",state[2])\n",
    "    state[2]=state[2]%(2*math.pi) # get theta\n",
    "   # print(\"4\",state[2])\n",
    "    #print(state[2])\n",
    "    \n",
    "    \n",
    "    return state\n",
    "\n",
    "def compute_cost(m1,m2): # can be used to compute to distance between two  vectors\n",
    "    dm = m1-m2 # this creates a new array here\n",
    "    return math.sqrt(dm[0]*dm[0]+dm[1]*dm[1])\n",
    "\n",
    "def get_flow_index(orientation,flow_dir): # get the flow index with respect to robot\n",
    "    # get the flow relative to robot\n",
    "    rel_flow = np.zeros((2,),dtype=float)\n",
    "    rel_flow[0] = flow_dir[0]*math.cos(orientation) + flow_dir[1]*math.sin(orientation)\n",
    "    rel_flow[1] = -flow_dir[0]*math.sin(orientation) + flow_dir[1]*math.cos(orientation)\n",
    "    # get the flow index\n",
    "    fl = [1,1] # this [1,1] to get the index for [0,0] flow\n",
    "    max_f = abs(max(rel_flow,key=abs)) #get the maximum abs\n",
    "    if(max_f!=0): #if there are no double zeros\n",
    "            fl[0] = round(rel_flow[0]/max_f) + 1 \n",
    "            fl[1] = round(rel_flow[1]/max_f) + 1 \n",
    "    return 3*fl[0] + fl[1] "
   ]
  },
  {
   "cell_type": "code",
   "execution_count": 7,
   "metadata": {},
   "outputs": [
    {
     "data": {
      "text/html": [
       "<div>\n",
       "<style scoped>\n",
       "    .dataframe tbody tr th:only-of-type {\n",
       "        vertical-align: middle;\n",
       "    }\n",
       "\n",
       "    .dataframe tbody tr th {\n",
       "        vertical-align: top;\n",
       "    }\n",
       "\n",
       "    .dataframe thead th {\n",
       "        text-align: right;\n",
       "    }\n",
       "</style>\n",
       "<table border=\"1\" class=\"dataframe\">\n",
       "  <thead>\n",
       "    <tr style=\"text-align: right;\">\n",
       "      <th></th>\n",
       "      <th>x</th>\n",
       "      <th>y</th>\n",
       "      <th>theta</th>\n",
       "    </tr>\n",
       "  </thead>\n",
       "  <tbody>\n",
       "    <tr>\n",
       "      <th>0</th>\n",
       "      <td>1.0392</td>\n",
       "      <td>-0.6</td>\n",
       "      <td>-0.130</td>\n",
       "    </tr>\n",
       "    <tr>\n",
       "      <th>1</th>\n",
       "      <td>1.2000</td>\n",
       "      <td>0.0</td>\n",
       "      <td>0.240</td>\n",
       "    </tr>\n",
       "    <tr>\n",
       "      <th>2</th>\n",
       "      <td>1.0392</td>\n",
       "      <td>0.6</td>\n",
       "      <td>0.780</td>\n",
       "    </tr>\n",
       "    <tr>\n",
       "      <th>3</th>\n",
       "      <td>1.0392</td>\n",
       "      <td>-0.6</td>\n",
       "      <td>-0.630</td>\n",
       "    </tr>\n",
       "    <tr>\n",
       "      <th>4</th>\n",
       "      <td>1.2000</td>\n",
       "      <td>0.0</td>\n",
       "      <td>-0.130</td>\n",
       "    </tr>\n",
       "    <tr>\n",
       "      <th>5</th>\n",
       "      <td>1.0392</td>\n",
       "      <td>0.6</td>\n",
       "      <td>0.640</td>\n",
       "    </tr>\n",
       "    <tr>\n",
       "      <th>6</th>\n",
       "      <td>1.0392</td>\n",
       "      <td>-0.6</td>\n",
       "      <td>-0.860</td>\n",
       "    </tr>\n",
       "    <tr>\n",
       "      <th>7</th>\n",
       "      <td>1.2000</td>\n",
       "      <td>0.0</td>\n",
       "      <td>-0.490</td>\n",
       "    </tr>\n",
       "    <tr>\n",
       "      <th>8</th>\n",
       "      <td>1.0392</td>\n",
       "      <td>0.6</td>\n",
       "      <td>0.266</td>\n",
       "    </tr>\n",
       "    <tr>\n",
       "      <th>9</th>\n",
       "      <td>1.0392</td>\n",
       "      <td>-0.6</td>\n",
       "      <td>-0.580</td>\n",
       "    </tr>\n",
       "    <tr>\n",
       "      <th>10</th>\n",
       "      <td>1.2000</td>\n",
       "      <td>0.0</td>\n",
       "      <td>0.500</td>\n",
       "    </tr>\n",
       "    <tr>\n",
       "      <th>11</th>\n",
       "      <td>1.0392</td>\n",
       "      <td>0.6</td>\n",
       "      <td>0.950</td>\n",
       "    </tr>\n",
       "    <tr>\n",
       "      <th>12</th>\n",
       "      <td>1.0392</td>\n",
       "      <td>-0.6</td>\n",
       "      <td>-0.610</td>\n",
       "    </tr>\n",
       "    <tr>\n",
       "      <th>13</th>\n",
       "      <td>1.2000</td>\n",
       "      <td>0.0</td>\n",
       "      <td>0.000</td>\n",
       "    </tr>\n",
       "    <tr>\n",
       "      <th>14</th>\n",
       "      <td>1.0392</td>\n",
       "      <td>0.6</td>\n",
       "      <td>0.610</td>\n",
       "    </tr>\n",
       "    <tr>\n",
       "      <th>15</th>\n",
       "      <td>1.0392</td>\n",
       "      <td>-0.6</td>\n",
       "      <td>-0.950</td>\n",
       "    </tr>\n",
       "    <tr>\n",
       "      <th>16</th>\n",
       "      <td>1.2000</td>\n",
       "      <td>0.0</td>\n",
       "      <td>-0.270</td>\n",
       "    </tr>\n",
       "    <tr>\n",
       "      <th>17</th>\n",
       "      <td>1.0392</td>\n",
       "      <td>0.6</td>\n",
       "      <td>0.430</td>\n",
       "    </tr>\n",
       "    <tr>\n",
       "      <th>18</th>\n",
       "      <td>1.0392</td>\n",
       "      <td>-0.6</td>\n",
       "      <td>-0.580</td>\n",
       "    </tr>\n",
       "    <tr>\n",
       "      <th>19</th>\n",
       "      <td>1.0000</td>\n",
       "      <td>0.0</td>\n",
       "      <td>0.290</td>\n",
       "    </tr>\n",
       "    <tr>\n",
       "      <th>20</th>\n",
       "      <td>1.0392</td>\n",
       "      <td>0.6</td>\n",
       "      <td>1.430</td>\n",
       "    </tr>\n",
       "    <tr>\n",
       "      <th>21</th>\n",
       "      <td>1.0392</td>\n",
       "      <td>-0.6</td>\n",
       "      <td>-1.030</td>\n",
       "    </tr>\n",
       "    <tr>\n",
       "      <th>22</th>\n",
       "      <td>1.2000</td>\n",
       "      <td>0.0</td>\n",
       "      <td>0.000</td>\n",
       "    </tr>\n",
       "    <tr>\n",
       "      <th>23</th>\n",
       "      <td>1.0392</td>\n",
       "      <td>0.6</td>\n",
       "      <td>0.900</td>\n",
       "    </tr>\n",
       "    <tr>\n",
       "      <th>24</th>\n",
       "      <td>1.0392</td>\n",
       "      <td>-0.6</td>\n",
       "      <td>-1.440</td>\n",
       "    </tr>\n",
       "    <tr>\n",
       "      <th>25</th>\n",
       "      <td>1.2000</td>\n",
       "      <td>0.0</td>\n",
       "      <td>-0.480</td>\n",
       "    </tr>\n",
       "    <tr>\n",
       "      <th>26</th>\n",
       "      <td>1.0392</td>\n",
       "      <td>0.6</td>\n",
       "      <td>0.780</td>\n",
       "    </tr>\n",
       "  </tbody>\n",
       "</table>\n",
       "</div>"
      ],
      "text/plain": [
       "         x    y  theta\n",
       "0   1.0392 -0.6 -0.130\n",
       "1   1.2000  0.0  0.240\n",
       "2   1.0392  0.6  0.780\n",
       "3   1.0392 -0.6 -0.630\n",
       "4   1.2000  0.0 -0.130\n",
       "5   1.0392  0.6  0.640\n",
       "6   1.0392 -0.6 -0.860\n",
       "7   1.2000  0.0 -0.490\n",
       "8   1.0392  0.6  0.266\n",
       "9   1.0392 -0.6 -0.580\n",
       "10  1.2000  0.0  0.500\n",
       "11  1.0392  0.6  0.950\n",
       "12  1.0392 -0.6 -0.610\n",
       "13  1.2000  0.0  0.000\n",
       "14  1.0392  0.6  0.610\n",
       "15  1.0392 -0.6 -0.950\n",
       "16  1.2000  0.0 -0.270\n",
       "17  1.0392  0.6  0.430\n",
       "18  1.0392 -0.6 -0.580\n",
       "19  1.0000  0.0  0.290\n",
       "20  1.0392  0.6  1.430\n",
       "21  1.0392 -0.6 -1.030\n",
       "22  1.2000  0.0  0.000\n",
       "23  1.0392  0.6  0.900\n",
       "24  1.0392 -0.6 -1.440\n",
       "25  1.2000  0.0 -0.480\n",
       "26  1.0392  0.6  0.780"
      ]
     },
     "execution_count": 7,
     "metadata": {},
     "output_type": "execute_result"
    }
   ],
   "source": [
    "df=pd.read_csv('action_space.csv')# read the csv for state action pairs\n",
    "df"
   ]
  },
  {
   "cell_type": "markdown",
   "metadata": {},
   "source": [
    "#process the action space for d*lite for processing\n",
    "r,c=df.shape\n",
    "for i in range(r):\n",
    "    x = df.iloc[i,0]\n",
    "    y = df.iloc[i,1]\n",
    "    th = df.iloc[i,2]\n",
    "    s = np.sin(math.pi+th)\n",
    "    c = np.cos(math.pi+th)\n",
    "    T = np.identity(3,dtype=float)\n",
    "    R = np.array(((c,-s),(s,c)))\n",
    "    T[0:2,0:2]=R\n",
    "    T[0,2]=x\n",
    "    T[1,2]=y\n",
    "    it = np.linalg.inv(T)\n",
    "    df.iloc[i,0]=it[0,2]\n",
    "    df.iloc[i,1]=it[1,2]\n",
    "    df.iloc[i,2]=-th\n",
    "    "
   ]
  },
  {
   "cell_type": "code",
   "execution_count": 4,
   "metadata": {
    "scrolled": true
   },
   "outputs": [
    {
     "data": {
      "text/html": [
       "<div>\n",
       "<style scoped>\n",
       "    .dataframe tbody tr th:only-of-type {\n",
       "        vertical-align: middle;\n",
       "    }\n",
       "\n",
       "    .dataframe tbody tr th {\n",
       "        vertical-align: top;\n",
       "    }\n",
       "\n",
       "    .dataframe thead th {\n",
       "        text-align: right;\n",
       "    }\n",
       "</style>\n",
       "<table border=\"1\" class=\"dataframe\">\n",
       "  <thead>\n",
       "    <tr style=\"text-align: right;\">\n",
       "      <th></th>\n",
       "      <th>x</th>\n",
       "      <th>y</th>\n",
       "      <th>theta</th>\n",
       "    </tr>\n",
       "  </thead>\n",
       "  <tbody>\n",
       "    <tr>\n",
       "      <th>0</th>\n",
       "      <td>1.0392</td>\n",
       "      <td>-0.6</td>\n",
       "      <td>-0.130</td>\n",
       "    </tr>\n",
       "    <tr>\n",
       "      <th>1</th>\n",
       "      <td>1.2000</td>\n",
       "      <td>0.0</td>\n",
       "      <td>0.240</td>\n",
       "    </tr>\n",
       "    <tr>\n",
       "      <th>2</th>\n",
       "      <td>1.0392</td>\n",
       "      <td>0.6</td>\n",
       "      <td>0.780</td>\n",
       "    </tr>\n",
       "    <tr>\n",
       "      <th>3</th>\n",
       "      <td>1.0392</td>\n",
       "      <td>-0.6</td>\n",
       "      <td>-0.630</td>\n",
       "    </tr>\n",
       "    <tr>\n",
       "      <th>4</th>\n",
       "      <td>1.2000</td>\n",
       "      <td>0.0</td>\n",
       "      <td>-0.130</td>\n",
       "    </tr>\n",
       "    <tr>\n",
       "      <th>5</th>\n",
       "      <td>1.0392</td>\n",
       "      <td>0.6</td>\n",
       "      <td>0.640</td>\n",
       "    </tr>\n",
       "    <tr>\n",
       "      <th>6</th>\n",
       "      <td>1.0392</td>\n",
       "      <td>-0.6</td>\n",
       "      <td>-0.860</td>\n",
       "    </tr>\n",
       "    <tr>\n",
       "      <th>7</th>\n",
       "      <td>1.2000</td>\n",
       "      <td>0.0</td>\n",
       "      <td>-0.490</td>\n",
       "    </tr>\n",
       "    <tr>\n",
       "      <th>8</th>\n",
       "      <td>1.0392</td>\n",
       "      <td>0.6</td>\n",
       "      <td>0.266</td>\n",
       "    </tr>\n",
       "    <tr>\n",
       "      <th>9</th>\n",
       "      <td>1.0392</td>\n",
       "      <td>-0.6</td>\n",
       "      <td>-0.580</td>\n",
       "    </tr>\n",
       "    <tr>\n",
       "      <th>10</th>\n",
       "      <td>1.2000</td>\n",
       "      <td>0.0</td>\n",
       "      <td>0.500</td>\n",
       "    </tr>\n",
       "    <tr>\n",
       "      <th>11</th>\n",
       "      <td>1.0392</td>\n",
       "      <td>0.6</td>\n",
       "      <td>0.950</td>\n",
       "    </tr>\n",
       "    <tr>\n",
       "      <th>12</th>\n",
       "      <td>1.0392</td>\n",
       "      <td>-0.6</td>\n",
       "      <td>-0.610</td>\n",
       "    </tr>\n",
       "    <tr>\n",
       "      <th>13</th>\n",
       "      <td>1.2000</td>\n",
       "      <td>0.0</td>\n",
       "      <td>0.000</td>\n",
       "    </tr>\n",
       "    <tr>\n",
       "      <th>14</th>\n",
       "      <td>1.0392</td>\n",
       "      <td>0.6</td>\n",
       "      <td>0.610</td>\n",
       "    </tr>\n",
       "    <tr>\n",
       "      <th>15</th>\n",
       "      <td>1.0392</td>\n",
       "      <td>-0.6</td>\n",
       "      <td>-0.950</td>\n",
       "    </tr>\n",
       "    <tr>\n",
       "      <th>16</th>\n",
       "      <td>1.2000</td>\n",
       "      <td>0.0</td>\n",
       "      <td>-0.270</td>\n",
       "    </tr>\n",
       "    <tr>\n",
       "      <th>17</th>\n",
       "      <td>1.0392</td>\n",
       "      <td>0.6</td>\n",
       "      <td>0.430</td>\n",
       "    </tr>\n",
       "    <tr>\n",
       "      <th>18</th>\n",
       "      <td>1.0392</td>\n",
       "      <td>-0.6</td>\n",
       "      <td>-0.580</td>\n",
       "    </tr>\n",
       "    <tr>\n",
       "      <th>19</th>\n",
       "      <td>1.0000</td>\n",
       "      <td>0.0</td>\n",
       "      <td>0.290</td>\n",
       "    </tr>\n",
       "    <tr>\n",
       "      <th>20</th>\n",
       "      <td>1.0392</td>\n",
       "      <td>0.6</td>\n",
       "      <td>1.430</td>\n",
       "    </tr>\n",
       "    <tr>\n",
       "      <th>21</th>\n",
       "      <td>1.0392</td>\n",
       "      <td>-0.6</td>\n",
       "      <td>-1.030</td>\n",
       "    </tr>\n",
       "    <tr>\n",
       "      <th>22</th>\n",
       "      <td>1.2000</td>\n",
       "      <td>0.0</td>\n",
       "      <td>0.000</td>\n",
       "    </tr>\n",
       "    <tr>\n",
       "      <th>23</th>\n",
       "      <td>1.0392</td>\n",
       "      <td>0.6</td>\n",
       "      <td>0.900</td>\n",
       "    </tr>\n",
       "    <tr>\n",
       "      <th>24</th>\n",
       "      <td>1.0392</td>\n",
       "      <td>-0.6</td>\n",
       "      <td>-1.440</td>\n",
       "    </tr>\n",
       "    <tr>\n",
       "      <th>25</th>\n",
       "      <td>1.2000</td>\n",
       "      <td>0.0</td>\n",
       "      <td>-0.480</td>\n",
       "    </tr>\n",
       "    <tr>\n",
       "      <th>26</th>\n",
       "      <td>1.0392</td>\n",
       "      <td>0.6</td>\n",
       "      <td>0.780</td>\n",
       "    </tr>\n",
       "  </tbody>\n",
       "</table>\n",
       "</div>"
      ],
      "text/plain": [
       "         x    y  theta\n",
       "0   1.0392 -0.6 -0.130\n",
       "1   1.2000  0.0  0.240\n",
       "2   1.0392  0.6  0.780\n",
       "3   1.0392 -0.6 -0.630\n",
       "4   1.2000  0.0 -0.130\n",
       "5   1.0392  0.6  0.640\n",
       "6   1.0392 -0.6 -0.860\n",
       "7   1.2000  0.0 -0.490\n",
       "8   1.0392  0.6  0.266\n",
       "9   1.0392 -0.6 -0.580\n",
       "10  1.2000  0.0  0.500\n",
       "11  1.0392  0.6  0.950\n",
       "12  1.0392 -0.6 -0.610\n",
       "13  1.2000  0.0  0.000\n",
       "14  1.0392  0.6  0.610\n",
       "15  1.0392 -0.6 -0.950\n",
       "16  1.2000  0.0 -0.270\n",
       "17  1.0392  0.6  0.430\n",
       "18  1.0392 -0.6 -0.580\n",
       "19  1.0000  0.0  0.290\n",
       "20  1.0392  0.6  1.430\n",
       "21  1.0392 -0.6 -1.030\n",
       "22  1.2000  0.0  0.000\n",
       "23  1.0392  0.6  0.900\n",
       "24  1.0392 -0.6 -1.440\n",
       "25  1.2000  0.0 -0.480\n",
       "26  1.0392  0.6  0.780"
      ]
     },
     "execution_count": 4,
     "metadata": {},
     "output_type": "execute_result"
    }
   ],
   "source": [
    "df"
   ]
  },
  {
   "cell_type": "code",
   "execution_count": 5,
   "metadata": {},
   "outputs": [],
   "source": [
    "actions = df.values # convert the csv to numpy array , sliced vectors are diminesio (3,null)"
   ]
  },
  {
   "cell_type": "code",
   "execution_count": 6,
   "metadata": {},
   "outputs": [],
   "source": [
    "#define node class and helper functions\n",
    "\n",
    "gmag = 1.2 # the spherical step size is 1.2\n",
    "flow = [0,0]\n",
    "class node:  # this class uses global variable and hence global vars must be initialised first before calling\n",
    "    def __init__(self,parent,state):\n",
    "        self.parent = parent #initially set to zero\n",
    "        self.state = state  # store the states and parents\n",
    "        self.g_cost = float('inf') #Set infinity  as per D*Lite\n",
    "        self.rhs = float('inf')\n",
    "        self.children = [0]*3 #set the three childrens although these are pointers\n",
    "        \n",
    "        #keyself = [key,u_index,object] which is stored in U\n",
    "        # key = [min(g,rhs)+h;min(g,rhs)]\n",
    "        self.keyself=0\n",
    "        \n",
    "        self.updateno = 0\n",
    "        \n",
    "        self.is_U=False #to find out whether it is in open list or not.\n",
    "        \n",
    "        #self.edcost_pc = float('inf') #edge cost currently infinity\n",
    "        self.edcost_pc = 1.2# edge cost currently 1.2 parent to children\n",
    "\n",
    "    def __str__(self):\n",
    "        return \"state-> \"+str(self.state[0])+\", \"+str(self.state[1])+\", \"+str(self.state[2]*180/math.pi)+\", rhs-> \"+str(self.rhs)+\" gcost- \"+str(self.g_cost)\n",
    "\n",
    "        \n",
    "def flush_grid():\n",
    "    global grid #refere to the global\n",
    "    for i in range(range_x):\n",
    "        for j in range(range_x):\n",
    "            for k in range(range_th):\n",
    "                cnode = grid[i][j][k]\n",
    "                cnode.parent = 0 #initially set to zero\n",
    "                cnode.g_cost = float('inf') #Set infinity  as per D*Lite\n",
    "                cnode.rhs = float('inf')\n",
    "                #keyself = [key,u_index,object] which is stored in U\n",
    "                # key = [min(g,rhs)+h;min(g,rhs)]\n",
    "                cnode.keyself=0\n",
    "                cnode.updateno=0\n",
    "                cnode.is_U=False #to find out whether it is in open list or not.\n",
    "\n",
    "                #self.edcost_pc = float('inf') #edge cost currently infinity\n",
    "                cnode.edcost_pc = 1.2# edge cost currently 1.2\n",
    "\n",
    "                \n",
    "class rectangle:\n",
    "    def __init__(self,x,y,height,width):\n",
    "        #x is the lowest point irrespective of the quadrant. Thus next corner x would be x + width. \n",
    "        self.x = x\n",
    "        self.y = y\n",
    "        self.height = height\n",
    "        self.width = width\n",
    "    def __str__(self):\n",
    "        return str(self.x)+\", \"+str(self.y)+\", \"+str(self.width)+\", \"+str(self.height)\n",
    "    \n",
    "#get grid node. \n",
    "def grid_node(pose):\n",
    "    global s_x,s_th,grid #refrer to global vars\n",
    "    if(pose[0]>=15 or pose[1]>=15):\n",
    "        return sys.exit('x and y values are above 15')\n",
    "    return grid[int(s_x*pose[0])][int(s_x*pose[1])][int(s_th*pose[2])]\n"
   ]
  },
  {
   "cell_type": "code",
   "execution_count": 7,
   "metadata": {},
   "outputs": [],
   "source": [
    "range_x = 75\n",
    "range_th = 16\n",
    "\n",
    "s_x = range_x/15 #cordinate multiplier for co-ordinates\n",
    "s_th = range_th/(2*math.pi) #multipliers for grid indices for orientation discretised in range_th values"
   ]
  },
  {
   "cell_type": "code",
   "execution_count": 8,
   "metadata": {},
   "outputs": [],
   "source": [
    "grid=[] #create a 3D array of node objects. 75x75x16 ,... [n,n,n,n,n,,n,,n,,n,n,]\n",
    "for i in range(range_x):\n",
    "    x=[]\n",
    "    for j in range(range_x):\n",
    "        th=[]\n",
    "        for k in range(range_th):\n",
    "            gstate = np.array([i/s_x,j/s_x,k/s_th]) \n",
    "            th.append(node(0,gstate)) #add the node attributes #states are added here\n",
    "        x.append(th)\n",
    "    grid.append(x)        \n",
    "           "
   ]
  },
  {
   "cell_type": "code",
   "execution_count": 9,
   "metadata": {},
   "outputs": [],
   "source": [
    "#create children for grid nodes \n",
    "#pre_computation for faster end computation\n",
    "flow = [0,0]\n",
    "gu = 0\n",
    "for i in range(range_x):\n",
    "    for j in range(range_x):\n",
    "        for k in range(range_th):\n",
    "            \n",
    "            cnode = grid[i][j][k]\n",
    "            cc = []\n",
    "            state = cnode.state\n",
    "            f_index = get_flow_index(state[2],flow) # get the flow index from orientation and flow\n",
    "            for m in range(3): #stupid rename it as m. dont use \"i\" everywhere. spent 3hrs debugging the silly mistake\n",
    "                        action = actions[(3*f_index+m),:]  # get the action for respective floe\n",
    "                        child_state = get_next_state(state,action) #get the next state for applied action\n",
    "                        \n",
    "                        if(child_state[0]>=15 or child_state[1]>=15 or child_state[0]<0 or child_state[1]<0):\n",
    "                            cc.append(0) #append 0 to children, this keeps no of children same. \n",
    "                        else: \n",
    "                            child_node = grid_node(child_state) #get the associated node\n",
    "                            cc.append(child_node)\n",
    "     \n",
    "            cnode.children = cc #set the children\n",
    "                \n",
    "                \n",
    "                                \n",
    "def eudis(p1,p2):\n",
    "    pp = p1-p2\n",
    "    return math.sqrt(np.sum(np.square(pp)))              \n",
    "           "
   ]
  },
  {
   "cell_type": "code",
   "execution_count": 8,
   "metadata": {},
   "outputs": [
    {
     "ename": "RuntimeError",
     "evalue": "Handle action0 does not exist.",
     "output_type": "error",
     "traceback": [
      "\u001b[0;31m---------------------------------------------------------------------------\u001b[0m",
      "\u001b[0;31mRuntimeError\u001b[0m                              Traceback (most recent call last)",
      "\u001b[0;32m<ipython-input-8-21eff91a95b3>\u001b[0m in \u001b[0;36m<module>\u001b[0;34m\u001b[0m\n\u001b[1;32m      5\u001b[0m \u001b[0maction_hull\u001b[0m \u001b[0;34m=\u001b[0m \u001b[0;34m[\u001b[0m\u001b[0;34m]\u001b[0m\u001b[0;34m\u001b[0m\u001b[0;34m\u001b[0m\u001b[0m\n\u001b[1;32m      6\u001b[0m \u001b[0;31m#hull =  Object.get_object('hull')\u001b[0m\u001b[0;34m\u001b[0m\u001b[0;34m\u001b[0m\u001b[0;34m\u001b[0m\u001b[0m\n\u001b[0;32m----> 7\u001b[0;31m \u001b[0maction0\u001b[0m \u001b[0;34m=\u001b[0m \u001b[0mObject\u001b[0m\u001b[0;34m.\u001b[0m\u001b[0mget_object\u001b[0m\u001b[0;34m(\u001b[0m\u001b[0;34m'action0'\u001b[0m\u001b[0;34m)\u001b[0m\u001b[0;34m\u001b[0m\u001b[0;34m\u001b[0m\u001b[0m\n\u001b[0m\u001b[1;32m      8\u001b[0m \u001b[0maction1\u001b[0m \u001b[0;34m=\u001b[0m \u001b[0mObject\u001b[0m\u001b[0;34m.\u001b[0m\u001b[0mget_object\u001b[0m\u001b[0;34m(\u001b[0m\u001b[0;34m'action1'\u001b[0m\u001b[0;34m)\u001b[0m\u001b[0;34m\u001b[0m\u001b[0;34m\u001b[0m\u001b[0m\n\u001b[1;32m      9\u001b[0m \u001b[0maction2\u001b[0m \u001b[0;34m=\u001b[0m \u001b[0mObject\u001b[0m\u001b[0;34m.\u001b[0m\u001b[0mget_object\u001b[0m\u001b[0;34m(\u001b[0m\u001b[0;34m'action2'\u001b[0m\u001b[0;34m)\u001b[0m\u001b[0;34m\u001b[0m\u001b[0;34m\u001b[0m\u001b[0m\n",
      "\u001b[0;32m~/.local/lib/python3.6/site-packages/pyrep/objects/object.py\u001b[0m in \u001b[0;36mget_object\u001b[0;34m(name_or_handle)\u001b[0m\n\u001b[1;32m     77\u001b[0m         \"\"\"\n\u001b[1;32m     78\u001b[0m         \u001b[0mname\u001b[0m \u001b[0;34m=\u001b[0m \u001b[0mObject\u001b[0m\u001b[0;34m.\u001b[0m\u001b[0mget_object_name\u001b[0m\u001b[0;34m(\u001b[0m\u001b[0mname_or_handle\u001b[0m\u001b[0;34m)\u001b[0m\u001b[0;34m\u001b[0m\u001b[0;34m\u001b[0m\u001b[0m\n\u001b[0;32m---> 79\u001b[0;31m         \u001b[0mobject_type\u001b[0m \u001b[0;34m=\u001b[0m \u001b[0mObject\u001b[0m\u001b[0;34m.\u001b[0m\u001b[0mget_object_type\u001b[0m\u001b[0;34m(\u001b[0m\u001b[0mname\u001b[0m\u001b[0;34m)\u001b[0m\u001b[0;34m\u001b[0m\u001b[0;34m\u001b[0m\u001b[0m\n\u001b[0m\u001b[1;32m     80\u001b[0m         \u001b[0mcls\u001b[0m \u001b[0;34m=\u001b[0m \u001b[0mobject_type_to_class\u001b[0m\u001b[0;34m[\u001b[0m\u001b[0mobject_type\u001b[0m\u001b[0;34m]\u001b[0m\u001b[0;34m\u001b[0m\u001b[0;34m\u001b[0m\u001b[0m\n\u001b[1;32m     81\u001b[0m         \u001b[0;32mreturn\u001b[0m \u001b[0mcls\u001b[0m\u001b[0;34m(\u001b[0m\u001b[0mname\u001b[0m\u001b[0;34m)\u001b[0m\u001b[0;34m\u001b[0m\u001b[0;34m\u001b[0m\u001b[0m\n",
      "\u001b[0;32m~/.local/lib/python3.6/site-packages/pyrep/objects/object.py\u001b[0m in \u001b[0;36mget_object_type\u001b[0;34m(name)\u001b[0m\n\u001b[1;32m     56\u001b[0m         \u001b[0;34m:\u001b[0m\u001b[0;32mreturn\u001b[0m\u001b[0;34m:\u001b[0m \u001b[0mType\u001b[0m \u001b[0mof\u001b[0m \u001b[0mthe\u001b[0m \u001b[0mobject\u001b[0m\u001b[0;34m.\u001b[0m\u001b[0;34m\u001b[0m\u001b[0;34m\u001b[0m\u001b[0m\n\u001b[1;32m     57\u001b[0m         \"\"\"\n\u001b[0;32m---> 58\u001b[0;31m         \u001b[0;32mreturn\u001b[0m \u001b[0mObjectType\u001b[0m\u001b[0;34m(\u001b[0m\u001b[0msim\u001b[0m\u001b[0;34m.\u001b[0m\u001b[0msimGetObjectType\u001b[0m\u001b[0;34m(\u001b[0m\u001b[0msim\u001b[0m\u001b[0;34m.\u001b[0m\u001b[0msimGetObjectHandle\u001b[0m\u001b[0;34m(\u001b[0m\u001b[0mname\u001b[0m\u001b[0;34m)\u001b[0m\u001b[0;34m)\u001b[0m\u001b[0;34m)\u001b[0m\u001b[0;34m\u001b[0m\u001b[0;34m\u001b[0m\u001b[0m\n\u001b[0m\u001b[1;32m     59\u001b[0m \u001b[0;34m\u001b[0m\u001b[0m\n\u001b[1;32m     60\u001b[0m     \u001b[0;34m@\u001b[0m\u001b[0mstaticmethod\u001b[0m\u001b[0;34m\u001b[0m\u001b[0;34m\u001b[0m\u001b[0m\n",
      "\u001b[0;32m~/.local/lib/python3.6/site-packages/pyrep/backend/sim.py\u001b[0m in \u001b[0;36msimGetObjectHandle\u001b[0;34m(objectName)\u001b[0m\n\u001b[1;32m     92\u001b[0m     \u001b[0mhandle\u001b[0m \u001b[0;34m=\u001b[0m \u001b[0mlib\u001b[0m\u001b[0;34m.\u001b[0m\u001b[0msimGetObjectHandle\u001b[0m\u001b[0;34m(\u001b[0m\u001b[0mobjectName\u001b[0m\u001b[0;34m.\u001b[0m\u001b[0mencode\u001b[0m\u001b[0;34m(\u001b[0m\u001b[0;34m'ascii'\u001b[0m\u001b[0;34m)\u001b[0m\u001b[0;34m)\u001b[0m\u001b[0;34m\u001b[0m\u001b[0;34m\u001b[0m\u001b[0m\n\u001b[1;32m     93\u001b[0m     \u001b[0;32mif\u001b[0m \u001b[0mhandle\u001b[0m \u001b[0;34m<\u001b[0m \u001b[0;36m0\u001b[0m\u001b[0;34m:\u001b[0m\u001b[0;34m\u001b[0m\u001b[0;34m\u001b[0m\u001b[0m\n\u001b[0;32m---> 94\u001b[0;31m         \u001b[0;32mraise\u001b[0m \u001b[0mRuntimeError\u001b[0m\u001b[0;34m(\u001b[0m\u001b[0;34m'Handle %s does not exist.'\u001b[0m \u001b[0;34m%\u001b[0m \u001b[0mobjectName\u001b[0m\u001b[0;34m)\u001b[0m\u001b[0;34m\u001b[0m\u001b[0;34m\u001b[0m\u001b[0m\n\u001b[0m\u001b[1;32m     95\u001b[0m     \u001b[0;32mreturn\u001b[0m \u001b[0mhandle\u001b[0m\u001b[0;34m\u001b[0m\u001b[0;34m\u001b[0m\u001b[0m\n\u001b[1;32m     96\u001b[0m \u001b[0;34m\u001b[0m\u001b[0m\n",
      "\u001b[0;31mRuntimeError\u001b[0m: Handle action0 does not exist."
     ]
    }
   ],
   "source": [
    "#create the environment\n",
    "# launch the coppeliasim\n",
    "pr.launch('eel_for_presentation.ttt', headless=False) \n",
    "pr.step()\n",
    "action_hull = []\n",
    "#hull =  Object.get_object('hull')\n",
    "action0 = Object.get_object('action0')\n",
    "action1 = Object.get_object('action1')\n",
    "action2 = Object.get_object('action2')\n",
    "\n",
    "\n",
    "\n",
    "hull = Object.get_object('hull')\n",
    "\n",
    "#action_hull.append(hull)\n",
    "action_hull.append(action0)\n",
    "action_hull.append(action1)\n",
    "action_hull.append(action2)\n",
    "\n",
    "action_hull.reverse()\n",
    "\n",
    "#Goal\n",
    "goal_ob = Object.get_object('Goal')\n",
    "\n",
    "\n",
    "#eel links \n",
    "wpoint = Object.get_object('waypoint')\n",
    "\n",
    "link = Object.get_object('link4')\n",
    "links = [Object.get_object('link4'),Object.get_object('link3'),Object.get_object('link2'),Object.get_object('link1'),Object.get_object('link0')]\n"
   ]
  },
  {
   "cell_type": "code",
   "execution_count": 10,
   "metadata": {},
   "outputs": [],
   "source": [
    "sim = True\n",
    "gtime = 0\n",
    "def dumrum():\n",
    "    global sim,gtime\n",
    "    gtime = 0\n",
    "    while(sim):\n",
    "        pr.step()\n",
    "        gtime+=0.05\n",
    "    "
   ]
  },
  {
   "cell_type": "code",
   "execution_count": 41,
   "metadata": {},
   "outputs": [
    {
     "ename": "KeyboardInterrupt",
     "evalue": "",
     "output_type": "error",
     "traceback": [
      "\u001b[0;31m---------------------------------------------------------------------------\u001b[0m",
      "\u001b[0;31mKeyboardInterrupt\u001b[0m                         Traceback (most recent call last)",
      "\u001b[0;32m<ipython-input-41-7fd211649ead>\u001b[0m in \u001b[0;36m<module>\u001b[0;34m\u001b[0m\n\u001b[1;32m     21\u001b[0m     \u001b[0;32melse\u001b[0m\u001b[0;34m:\u001b[0m\u001b[0;34m\u001b[0m\u001b[0;34m\u001b[0m\u001b[0m\n\u001b[1;32m     22\u001b[0m         \u001b[0;32mfor\u001b[0m \u001b[0mopoint\u001b[0m \u001b[0;32min\u001b[0m \u001b[0mobs_points\u001b[0m\u001b[0;34m:\u001b[0m\u001b[0;34m\u001b[0m\u001b[0;34m\u001b[0m\u001b[0m\n\u001b[0;32m---> 23\u001b[0;31m             \u001b[0;32mif\u001b[0m\u001b[0;34m(\u001b[0m\u001b[0meudis\u001b[0m\u001b[0;34m(\u001b[0m\u001b[0mobs\u001b[0m\u001b[0;34m,\u001b[0m\u001b[0mopoint\u001b[0m\u001b[0;34m)\u001b[0m\u001b[0;34m<\u001b[0m\u001b[0;34m(\u001b[0m\u001b[0mobs_dia\u001b[0m\u001b[0;34m+\u001b[0m\u001b[0mobs_gap\u001b[0m\u001b[0;34m)\u001b[0m\u001b[0;34m)\u001b[0m\u001b[0;34m:\u001b[0m \u001b[0;31m#check the inter distance of obstacles\u001b[0m\u001b[0;34m\u001b[0m\u001b[0;34m\u001b[0m\u001b[0m\n\u001b[0m\u001b[1;32m     24\u001b[0m                 \u001b[0ms1\u001b[0m\u001b[0;34m=\u001b[0m\u001b[0;36m1\u001b[0m\u001b[0;34m\u001b[0m\u001b[0;34m\u001b[0m\u001b[0m\n\u001b[1;32m     25\u001b[0m                 \u001b[0;32mbreak\u001b[0m\u001b[0;34m\u001b[0m\u001b[0;34m\u001b[0m\u001b[0m\n",
      "\u001b[0;32m<ipython-input-9-294481d10dc1>\u001b[0m in \u001b[0;36meudis\u001b[0;34m(p1, p2)\u001b[0m\n\u001b[1;32m     27\u001b[0m \u001b[0;32mdef\u001b[0m \u001b[0meudis\u001b[0m\u001b[0;34m(\u001b[0m\u001b[0mp1\u001b[0m\u001b[0;34m,\u001b[0m\u001b[0mp2\u001b[0m\u001b[0;34m)\u001b[0m\u001b[0;34m:\u001b[0m\u001b[0;34m\u001b[0m\u001b[0;34m\u001b[0m\u001b[0m\n\u001b[1;32m     28\u001b[0m     \u001b[0mpp\u001b[0m \u001b[0;34m=\u001b[0m \u001b[0mp1\u001b[0m\u001b[0;34m-\u001b[0m\u001b[0mp2\u001b[0m\u001b[0;34m\u001b[0m\u001b[0;34m\u001b[0m\u001b[0m\n\u001b[0;32m---> 29\u001b[0;31m     \u001b[0;32mreturn\u001b[0m \u001b[0mmath\u001b[0m\u001b[0;34m.\u001b[0m\u001b[0msqrt\u001b[0m\u001b[0;34m(\u001b[0m\u001b[0mnp\u001b[0m\u001b[0;34m.\u001b[0m\u001b[0msum\u001b[0m\u001b[0;34m(\u001b[0m\u001b[0mnp\u001b[0m\u001b[0;34m.\u001b[0m\u001b[0msquare\u001b[0m\u001b[0;34m(\u001b[0m\u001b[0mpp\u001b[0m\u001b[0;34m)\u001b[0m\u001b[0;34m)\u001b[0m\u001b[0;34m)\u001b[0m\u001b[0;34m\u001b[0m\u001b[0;34m\u001b[0m\u001b[0m\n\u001b[0m\u001b[1;32m     30\u001b[0m \u001b[0;34m\u001b[0m\u001b[0m\n",
      "\u001b[0;32m<__array_function__ internals>\u001b[0m in \u001b[0;36msum\u001b[0;34m(*args, **kwargs)\u001b[0m\n",
      "\u001b[0;32m~/.local/lib/python3.6/site-packages/numpy/core/fromnumeric.py\u001b[0m in \u001b[0;36msum\u001b[0;34m(a, axis, dtype, out, keepdims, initial, where)\u001b[0m\n\u001b[1;32m   2226\u001b[0m     \u001b[0;36m15\u001b[0m\u001b[0;34m\u001b[0m\u001b[0;34m\u001b[0m\u001b[0m\n\u001b[1;32m   2227\u001b[0m     \"\"\"\n\u001b[0;32m-> 2228\u001b[0;31m     \u001b[0;32mif\u001b[0m \u001b[0misinstance\u001b[0m\u001b[0;34m(\u001b[0m\u001b[0ma\u001b[0m\u001b[0;34m,\u001b[0m \u001b[0m_gentype\u001b[0m\u001b[0;34m)\u001b[0m\u001b[0;34m:\u001b[0m\u001b[0;34m\u001b[0m\u001b[0;34m\u001b[0m\u001b[0m\n\u001b[0m\u001b[1;32m   2229\u001b[0m         \u001b[0;31m# 2018-02-25, 1.15.0\u001b[0m\u001b[0;34m\u001b[0m\u001b[0;34m\u001b[0m\u001b[0;34m\u001b[0m\u001b[0m\n\u001b[1;32m   2230\u001b[0m         warnings.warn(\n",
      "\u001b[0;31mKeyboardInterrupt\u001b[0m: "
     ]
    }
   ],
   "source": [
    "#obstacle features\n",
    "grid_size = 13\n",
    "no_of_obstacles = 10\n",
    "obs_dia = 2.3\n",
    "obs_gap = 1.5\n",
    "\n",
    "obs_count = no_of_obstacles-1\n",
    "obs_points=[]\n",
    "while(obs_count>0):\n",
    "    #get a random point\n",
    "    #obs=np.random.randint(grid_size,size=(3,))\n",
    "    \n",
    "    obs = np.zeros((3,),dtype=float)\n",
    "    obs[1] = random.randint(1, grid_size)\n",
    "    obs[2] = 0.5\n",
    "    obs[0] = random.randint(1, grid_size)  \n",
    "    \n",
    "    s1=0\n",
    "    if(len(obs_points)==0): #first time go through gere\n",
    "           obs_points.append(obs)\n",
    "    else:\n",
    "        for opoint in obs_points:\n",
    "            if(eudis(obs,opoint)<(obs_dia+obs_gap)): #check the inter distance of obstacles\n",
    "                s1=1\n",
    "                break\n",
    "            \n",
    "        if(s1==0): #you put s1==1 thats why it was wroung\n",
    "            obs_points.append(obs)\n",
    "           \n",
    "            obs_count-=1\n",
    "           \n",
    "    \n",
    "    \n",
    "           \n",
    "       \n",
    "    \n",
    "obs_points  "
   ]
  },
  {
   "cell_type": "code",
   "execution_count": 13,
   "metadata": {},
   "outputs": [
    {
     "data": {
      "text/plain": [
       "'\\n#create the shapes\\nfor opoint in obs_points:\\n    Shape.create(const.PrimitiveShape.SPHERE,[obs_dia,obs_dia,obs_dia],1.0,False, False,False,False,True, True, opoint,None,None)\\nprint(\"done\")\\n'"
      ]
     },
     "execution_count": 13,
     "metadata": {},
     "output_type": "execute_result"
    }
   ],
   "source": [
    "'''\n",
    "#create the shapes\n",
    "for opoint in obs_points:\n",
    "    Shape.create(const.PrimitiveShape.SPHERE,[obs_dia,obs_dia,obs_dia],1.0,False, False,False,False,True, True, opoint,None,None)\n",
    "print(\"done\")\n",
    "'''"
   ]
  },
  {
   "cell_type": "code",
   "execution_count": 88,
   "metadata": {},
   "outputs": [
    {
     "name": "stdout",
     "output_type": "stream",
     "text": [
      "Sphere0\n",
      "Sphere1\n",
      "Sphere2\n",
      "Sphere3\n",
      "Sphere4\n",
      "Sphere5\n",
      "Sphere6\n",
      "Sphere7\n",
      "Sphere8\n",
      "Sphere9\n",
      "[7.82499981 4.92500305 0.49999928]\n",
      "[4.9499979  2.52499938 0.49999905]\n",
      "[11.22500134  5.12500048  0.5       ]\n",
      "[ 6.20000029 11.0249958   0.49999952]\n",
      "[0.72499883 7.74999952 0.49999952]\n",
      "[9.20000267 9.90000153 0.49999976]\n",
      "[8.95000076 1.52499998 0.49999881]\n",
      "[3.32499766 9.20000172 0.49999928]\n",
      "[7.52499866 8.15000057 0.5       ]\n",
      "[4.25000095 4.95000076 0.5       ]\n",
      "[12.29999924  8.94999981  0.5       ]\n"
     ]
    }
   ],
   "source": [
    "#get the sphere objects\n",
    "num_obs = 11\n",
    "spheres = []\n",
    "spheres.append(Object.get_object('Sphere'))\n",
    "l = num_obs-1\n",
    "for i in range(l):\n",
    "    spheres.append(Object.get_object('Sphere'+str(i)))\n",
    "    print('Sphere'+str(i))\n",
    "for s in spheres:\n",
    "    print(s.get_position())"
   ]
  },
  {
   "cell_type": "code",
   "execution_count": 57,
   "metadata": {},
   "outputs": [],
   "source": [
    "num_obs=14\n",
    "safe_dis=0.2\n",
    "obs_dia=1\n",
    "def destroyspheres():\n",
    "    global spheres\n",
    "\n",
    "    if(len(spheres)==0):\n",
    "        return\n",
    "    else:\n",
    "        print(\"here\")\n",
    "        for s in spheres:\n",
    "            s.remove()\n",
    "            spheres = []"
   ]
  },
  {
   "cell_type": "code",
   "execution_count": 16,
   "metadata": {},
   "outputs": [],
   "source": [
    "#obstacle features\n",
    "def getobsloc(dia,num):\n",
    "    grid_size = 13\n",
    "    no_of_obstacles = num\n",
    "    obs_dia = dia\n",
    "    obs_gap = 1.5\n",
    "\n",
    "    obs_count = no_of_obstacles-1\n",
    "    obs_points=[]\n",
    "    while(obs_count>0):\n",
    "        #get a random point\n",
    "        #obs=np.random.randint(grid_size,size=(3,))\n",
    "\n",
    "        obs = np.zeros((3,),dtype=float)\n",
    "        obs[1] = random.randint(1, grid_size)\n",
    "        obs[2] = 0.5\n",
    "        obs[0] = random.randint(1, grid_size)  \n",
    "\n",
    "        s1=0\n",
    "        if(len(obs_points)==0): #first time go through gere\n",
    "               obs_points.append(obs)\n",
    "        else:\n",
    "            for opoint in obs_points:\n",
    "                if(eudis(obs,opoint)<(obs_dia+obs_gap)): #check the inter distance of obstacles\n",
    "                    s1=1\n",
    "                    break\n",
    "\n",
    "            if(s1==0): #you put s1==1 thats why it was wroung\n",
    "                obs_points.append(obs)\n",
    "\n",
    "                obs_count-=1\n",
    "    return obs_points\n",
    "    \n",
    "    "
   ]
  },
  {
   "cell_type": "code",
   "execution_count": 17,
   "metadata": {},
   "outputs": [],
   "source": [
    "\n",
    "def generate_spheres(dia,num):\n",
    "   \n",
    "    \n",
    "    #create spheres as well as \n",
    "    global spheres\n",
    "    obs_points = getobsloc(dia,num)\n",
    "    #now create shape\n",
    "    for opoint in obs_points:\n",
    "        Shape.create(const.PrimitiveShape.SPHERE,[dia,dia,dia],1.0,False, False,False,False,True, True, opoint,None,None)\n",
    "    spheres = []\n",
    "    spheres.append(Object.get_object('Sphere'))\n",
    "    l = len(obs_points)-1\n",
    "    for i in range(l):\n",
    "        spheres.append(Object.get_object('Sphere'+str(i)))\n",
    "        #print('Sphere'+str(i))\n",
    "\n",
    "    for sphere in spheres:\n",
    "        sphere.set_collidable(True) #set all the spheres collidable\n",
    "        sphere.set_dynamic(True)\n",
    "        sphere.set_respondable(True)\n",
    "\n",
    "\n",
    "    for action_path in action_hull:\n",
    "        action_path.set_collidable(False) #initially set false. Then when required we only set one\n",
    "\n",
    "    hull.set_collidable(False) #we set this uncollidable\n",
    "    "
   ]
  },
  {
   "cell_type": "code",
   "execution_count": null,
   "metadata": {},
   "outputs": [],
   "source": []
  },
  {
   "cell_type": "code",
   "execution_count": 18,
   "metadata": {},
   "outputs": [],
   "source": [
    "for sphere in spheres:\n",
    "    sphere.set_collidable(True) #set all the spheres collidable\n",
    "\n",
    "\n",
    "\n",
    "for action_path in action_hull:\n",
    "    action_path.set_collidable(False) #initially set false. Then when required we only set one\n",
    "\n",
    "hull.set_collidable(False) #we set this uncollidable\n",
    "    "
   ]
  },
  {
   "cell_type": "code",
   "execution_count": null,
   "metadata": {},
   "outputs": [],
   "source": []
  },
  {
   "cell_type": "code",
   "execution_count": null,
   "metadata": {},
   "outputs": [],
   "source": []
  },
  {
   "cell_type": "code",
   "execution_count": 19,
   "metadata": {},
   "outputs": [],
   "source": [
    "#define helper functions for analysis and Dlite\n",
    "def get_rot_array(state):\n",
    "    rot_array = np.identity(4,dtype=float)\n",
    "    rot_array[0,0]=math.cos(state[2]); rot_array[0,1]=-math.sin(state[2]);\n",
    "    rot_array[1,0]=math.sin(state[2]); rot_array[1,1]= math.cos(state[2]);\n",
    "   \n",
    "    rot_array[0,3]=state[0]\n",
    "    rot_array[1,3]=state[1]\n",
    "    rot_array[2,3]=0.5    #since its floating  in water\n",
    "    return rot_array\n",
    "\n",
    "def h_cost(m1,m2): # can be used to compute to distance between two  vectors\n",
    "    dm = m1-m2 # this creates a new array here\n",
    "    return math.sqrt(dm[0]**2+dm[1]**2)\n",
    "\n",
    "\n",
    "def calckey(node_state):\n",
    "    global start_node\n",
    "    minn = min(node_state.g_cost,node_state.rhs)\n",
    "    return [minn+h_cost(start_node.state,node_state.state),minn]   #stupid \n",
    "\n",
    "def prepare_goal(force_orientation):\n",
    "    global U,u_index,goal_node,goal_or_nodes\n",
    "    u_index=0\n",
    "    if(force_orientation):\n",
    "        #That means robot should reach in that specific orientation only. Dont forget to change to compare the states\n",
    "        goal_node.rhs = 0 #set rhs =0 for goal node\n",
    "        kself = [calckey(goal_node),u_index,goal_node]\n",
    "        goal_node.keyself = kself #self reference d\n",
    "        hq.heappush(U,kself) #add goal node and key in U list\n",
    "        goal_node.is_U = True\n",
    "        u_index+=1\n",
    "    else:\n",
    "        for gnode in goal_or_nodes:\n",
    "            gnode.rhs=0\n",
    "            kself = [calckey(gnode),u_index,gnode]\n",
    "            hq.heappush(U,kself) #add goal node and key in U list\n",
    "            gnode.keyself = kself #add the keyself also\n",
    "            u_index+=1\n",
    "            \n",
    "            \n",
    "            \n",
    "def init(force_orientation):\n",
    "    #refer to globals\n",
    "    global U\n",
    "    global xrr,yrr\n",
    "    global u_index\n",
    "    global goal_node\n",
    "    global start_node\n",
    "    global start_pose,all_nodes,spheres_pos,spheres_vel,xo,yo,gx,gy,goal_or_nodes, goal_pose, goal_node, goal_ob\n",
    "    #initialise\n",
    "    U=[]\n",
    "    goal_ob.set_position([gx,gy,0.5]) #set position of goal in coppeliasim\n",
    "    all_nodes = [] #damn I forgot to empty this during initialisation. All the mess for now\n",
    "    start_pose = np.array([1,1,math.pi/4]) #the start location of\n",
    "    start_node = grid_node(start_pose)\n",
    "\n",
    "    goal_pose = np.array([gx,gy,math.pi/4])\n",
    "    goal_node = grid_node(goal_pose) #get the grid node from pose\n",
    "    \n",
    "    goal_or_nodes = []\n",
    "    \n",
    "    #stupid discretising angular space in 36 while grid space is max 16. lol\n",
    "    #goal_angles =  list(10*j for j in range(36)) #goal angle in degrees  #goal angle in degrees\n",
    "    goal_angles = list(30*j for j in range(11))\n",
    "    goal_angles.extend([45,135,225,315])\n",
    "    for goal_angle in goal_angles:\n",
    "        goal_or_nodes.append(grid_node(np.array([gx,gy,math.pi/180*goal_angle]))) #store the goal nodes\n",
    "\n",
    "\n",
    "    prepare_goal(force_orientation)\n",
    "\n",
    "    spheres_pos = []\n",
    "    spheres_vel = []\n",
    "    \n",
    "\n",
    "    xrr = []\n",
    "    yrr = []\n",
    "    xo=[];yo=[];\n",
    "    xrr.append(goal_node.state[0])\n",
    "    yrr.append(goal_node.state[1])\n",
    "    \n",
    "    #load the spheres\n",
    "    for sphere in spheres:\n",
    "        spheres_pos.append(sphere.get_position())\n",
    "        spheres_vel.append(sphere.get_velocity()[0])\n",
    "\n",
    "    \n",
    "num_obs = 6     \n",
    "def set_obstacles():\n",
    "    global spheres,gx,gy,num_obs,safe_dis,obs_dia\n",
    "    #obstacle features\n",
    "    grid_size = 14\n",
    "    no_of_obstacles = num_obs\n",
    "\n",
    "    obs_gap = safe_dis\n",
    "\n",
    "    obs_count = no_of_obstacles-1\n",
    "    obs_points=[]\n",
    "    while(obs_count>0):\n",
    "        #get a random point\n",
    "        #obs=np.random.randint(grid_size,size=(3,))\n",
    "\n",
    "        obs = np.zeros((3,),dtype=float)\n",
    "        obs[1] = random.randint(3, grid_size-3)\n",
    "        obs[2] = 0.5\n",
    "        obs[0] = random.randint(3, grid_size-3)  \n",
    "\n",
    "        s1=0\n",
    "        if(len(obs_points)==0): #first time go through gere\n",
    "               obs_points.append(obs)\n",
    "        else:\n",
    "            for opoint in obs_points:\n",
    "                if(eudis(obs,opoint)<(obs_dia+obs_gap)): #check the inter distance of obstacles\n",
    "                    s1=1\n",
    "                    break\n",
    "                    \n",
    "\n",
    "            if(s1==0): #you put s1==1 thats why it was wroung\n",
    "                obs_points.append(obs)\n",
    "                #print(obs)\n",
    "                obs_count-=1\n",
    "\n",
    "\n",
    "\n",
    "    for i in range(len(spheres)):\n",
    "        spheres[i].set_position(obs_points[i])\n",
    "\n",
    "\n",
    "def create_obstacles():\n",
    "    global spheres,gx,gy\n",
    "    #obstacle features\n",
    "    grid_size = 14\n",
    "    no_of_obstacles = 6\n",
    "    obs_dia = 2.3\n",
    "    obs_gap = 0.5\n",
    "\n",
    "    obs_count = no_of_obstacles-1\n",
    "    obs_points=[]\n",
    "    while(obs_count>0):\n",
    "        #get a random point\n",
    "        #obs=np.random.randint(grid_size,size=(3,))\n",
    "\n",
    "        obs = np.zeros((3,),dtype=float)\n",
    "        obs[1] = random.randint(3, grid_size-3)\n",
    "        obs[2] = 0.5\n",
    "        obs[0] = random.randint(3, grid_size-3)  \n",
    "\n",
    "        s1=0\n",
    "        if(len(obs_points)==0): #first time go through gere\n",
    "               obs_points.append(obs)\n",
    "        else:\n",
    "            for opoint in obs_points:\n",
    "                if(eudis(obs,opoint)<(obs_dia+obs_gap)): #check the inter distance of obstacles\n",
    "                    s1=1\n",
    "                    break\n",
    "                    \n",
    "\n",
    "            if(s1==0): #you put s1==1 thats why it was wroung\n",
    "                obs_points.append(obs)\n",
    "                #print(obs)\n",
    "                obs_count-=1\n",
    "\n",
    "\n",
    "\n",
    "    for i in range(len(spheres)):\n",
    "        spheres[i].set_position(obs_points[i])\n",
    "                    "
   ]
  },
  {
   "cell_type": "code",
   "execution_count": null,
   "metadata": {},
   "outputs": [],
   "source": []
  },
  {
   "cell_type": "code",
   "execution_count": 20,
   "metadata": {},
   "outputs": [],
   "source": [
    "#initialise\n",
    "U=[]\n",
    "\n",
    "\n",
    "gx = 12; gy=12; \n",
    "\n",
    "all_nodes = [] #damn I forgot to empty this during initialisation. All the mess for now\n",
    "start_pose = np.array([1,1,math.pi/4]) #the start location of\n",
    "start_node = grid_node(start_pose)\n",
    "\n",
    "\n",
    "\n",
    "goal_pose = np.array([gx,gy,math.pi/4])\n",
    "goal_node = grid_node(goal_pose) #get the grid node from pose\n",
    "\n",
    "\n",
    "goal_or_nodes = [] #define list of goal nodes to look as goal as indepent of orientation.\n",
    "#stupid discretising angular space in 36 while grid space is max 16. lol\n",
    "#goal_angles =  list(10*j for j in range(36)) #goal angle in degrees  #goal angle in degrees\n",
    "goal_angles = list(30*j for j in range(11))\n",
    "goal_angles.extend([45,135,225,315])\n",
    "for goal_angle in goal_angles:\n",
    "    goal_or_nodes.append(grid_node(np.array([gx,gy,math.pi/180*goal_angle]))) #store the goal nodes\n",
    "    \n",
    "\n",
    "prepare_goal(False)\n",
    "\n",
    "\n",
    "\n",
    "xrr = []\n",
    "yrr = []\n",
    "\n",
    "xrr.append(goal_node.state[0])\n",
    "yrr.append(goal_node.state[1])\n",
    "\n",
    "\n",
    "\n",
    "spheres_pos=[]\n",
    "spheres_vel=[]\n",
    "\n",
    "#load the spheres\n",
    "for sphere in spheres:\n",
    "    spheres_pos.append(sphere.get_position())\n",
    "    spheres_vel.append(sphere.get_velocity()[0])\n",
    "    \n"
   ]
  },
  {
   "cell_type": "code",
   "execution_count": 21,
   "metadata": {},
   "outputs": [],
   "source": [
    "\n",
    "def isInside(circle_x, circle_y, rad, x, y): \n",
    "      \n",
    "    # Compare radius of circle \n",
    "    # with distance of its center \n",
    "    # from given point \n",
    "    \n",
    "    if ((x - circle_x) **2 + \n",
    "        (y - circle_y) **2 <= rad **2): \n",
    "        return True; \n",
    "    else: \n",
    "        return False; \n",
    "    \n",
    "        "
   ]
  },
  {
   "cell_type": "code",
   "execution_count": 22,
   "metadata": {},
   "outputs": [],
   "source": [
    "eel_vel = 0.125\n",
    "def check_collision_w(curr_node):\n",
    "    global obs_dia,eel_vel,spheres,safe_dis\n",
    "    hull_size = 0.35+safe_dis #size of robot\n",
    "    state = curr_node.state\n",
    "    s1 = state[0] #this is to avoid editing the object\n",
    "    s2 = state[1]\n",
    "    for sphere in spheres:\n",
    "        pos = sphere.get_position()\n",
    "        vel = sphere.get_velocity()\n",
    "        t = h_cost(start_node.state,state)/eel_vel #get the minimum time to reach\n",
    "        #modify the state now\n",
    "        s3=s1-vel[0][0]*t\n",
    "        s4=s2-vel[0][1]*t #such that we can apply collision detection on the transformed point\n",
    "        rad = obs_dia/2+hull_size\n",
    "        if(isInside(pos[0],pos[1],rad,s3,s4) or isInside(pos[0],pos[1],rad,s1,s2)): #This combination incorporates uncertainity\n",
    "            return True\n",
    "        '''\n",
    "        if(isInside(pos[0],pos[1],rad,s3,s4)):\n",
    "            return True\n",
    "        '''\n",
    "    return False\n",
    "    \n",
    "\n",
    "    \n",
    "    \n",
    "    \n",
    "    \n",
    "    "
   ]
  },
  {
   "cell_type": "code",
   "execution_count": 23,
   "metadata": {},
   "outputs": [],
   "source": [
    "eel_vel = 0.125\n",
    "def check_collision_edge(curr_node):\n",
    "    global obs_dia,eel_vel,spheres,safe_dis\n",
    "    hull_size = 0.35 + safe_dis# half size of robot\n",
    "    \n",
    "    state = curr_node.state\n",
    "    s1 = state[0] #this is to avoid editing the object\n",
    "    s2 = state[1]\n",
    "    for sphere in spheres:\n",
    "        pos = sphere.get_position()\n",
    "        vel = sphere.get_velocity()\n",
    "        t = h_cost(start_node.state,state)/eel_vel #get the minimum time to reach\n",
    "        #modify the state now\n",
    "        s3=s1-vel[0][0]*t\n",
    "        s4=s2-vel[0][1]*t #such that we can apply collision detection on the transformed point\n",
    "        rad = obs_dia/2+hull_size\n",
    "        if(isInside(pos[0],pos[1],rad,s3,s4) or isInside(pos[0],pos[1],rad,s1,s2)):\n",
    "            return float('inf')\n",
    "        '''\n",
    "        if(isInside(pos[0],pos[1],rad,s3,s4)):\n",
    "            return float('inf')\n",
    "        '''\n",
    "    return 1.2\n",
    "    \n",
    "\n",
    "    \n",
    "    \n",
    "    \n",
    "    \n",
    "    "
   ]
  },
  {
   "cell_type": "code",
   "execution_count": 24,
   "metadata": {},
   "outputs": [],
   "source": [
    "eel_vel = 0.125\n",
    "def check_collision(curr_node):\n",
    "    global obs_dia,eel_vel,spheres,safe_dis\n",
    "    hull_size = 0.35 + safe_dis# half size of robot\n",
    "    \n",
    "    state = curr_node.state\n",
    "    s1 = state[0] #this is to avoid editing the object\n",
    "    s2 = state[1]\n",
    "    for sphere in spheres:\n",
    "        pos = sphere.get_position()\n",
    "        vel = sphere.get_velocity()\n",
    "        t = h_cost(start_node.state,state)/eel_vel #get the minimum time to reach\n",
    "        #modify the state now\n",
    "        s3=s1-vel[0][0]*t\n",
    "        s4=s2-vel[0][1]*t #such that we can apply collision detection on the transformed point\n",
    "        rad = obs_dia/2+hull_size\n",
    "        if(isInside(pos[0],pos[1],rad,s3,s4) or isInside(pos[0],pos[1],rad,s1,s2)):\n",
    "            return True\n",
    "        '''\n",
    "        if(isInside(pos[0],pos[1],rad,s3,s4)):\n",
    "            return True\n",
    "        '''\n",
    "    return False\n",
    "    \n",
    "\n",
    "    \n",
    "    \n",
    "    \n",
    "    \n",
    "    "
   ]
  },
  {
   "cell_type": "code",
   "execution_count": 25,
   "metadata": {},
   "outputs": [
    {
     "data": {
      "text/plain": [
       "0.55"
      ]
     },
     "execution_count": 25,
     "metadata": {},
     "output_type": "execute_result"
    }
   ],
   "source": [
    "safe_dis+0.35"
   ]
  },
  {
   "cell_type": "code",
   "execution_count": 26,
   "metadata": {},
   "outputs": [],
   "source": [
    "def goal_condition(curr_node):\n",
    "    curr_state = curr_node.state\n",
    "    \n",
    "    if(eudis(curr_state[0:2],start_pose[0:2])<0.6 and (abs(curr_state[2]-start_pose[2])<0.7)):\n",
    "        return True and not check_collision_w(curr_node)\n",
    "    else:\n",
    "        return False\n",
    "    "
   ]
  },
  {
   "cell_type": "code",
   "execution_count": 27,
   "metadata": {},
   "outputs": [],
   "source": [
    "def update_vertex(current_node):  #worst case time complexity (N+log(N))\n",
    "    \n",
    "    #update the rhs value. and if not consistent then insert it in U with new key. So new rhs is registered\n",
    "    global u_index,U,goal_node,nn\n",
    "    nn = current_node\n",
    "    parent = current_node.parent\n",
    "    if(parent==0):\n",
    "        return\n",
    "        #as it doesn't have a parent. its rhs is same=0\n",
    "    if(current_node!=goal_node):\n",
    "        current_node.rhs = parent.rhs + current_node.edcost_pc  #rhs + edgecost\n",
    "        \n",
    "        #to avoid a problem which is poping of nodes which are near to robot than the one \n",
    "        #which needs to be poped when the nodes and robot lie in straight line\n",
    "        # eg node 1 = gcost = 9.6, h = 2.4,    node 2 , gcost = 10.7999999 h = 1.2\n",
    "        # node 1 fcost = 9.6+2.4 = 12     node2 fcost 10.79999+1.2=11.9999\n",
    "        \n",
    "        #print('update rhs',current_node.rhs,current_node.g_cost)\n",
    "    if(current_node.is_U):\n",
    "        #rhs is now updated. U list contains keys,rhs with old values.\n",
    "        #keyself is only updated on node push.\n",
    "        \n",
    "        #for reducing memory size. we can use old rhs,,old gvalue value. And re-create old key value\n",
    "        # This is at the expense of time complexity or computing the keys\n",
    "        #\n",
    "        \n",
    "        U.remove(current_node.keyself) #this removes the self instance from list (N)\n",
    "        current_node.is_U = False\n",
    "        hq.heapify(U) #heapify the U again due to deletion log(N)\n",
    "        \n",
    "    if(current_node.g_cost!=current_node.rhs):\n",
    "        kself = [calckey(current_node),u_index,current_node]\n",
    "        #print(U)\n",
    "        hq.heappush(U,kself) #push the new val in U . log(N)\n",
    "        current_node.is_U = True #its now in U\n",
    "        current_node.keyself = kself #update the reference\n",
    "        u_index+=1"
   ]
  },
  {
   "cell_type": "code",
   "execution_count": 28,
   "metadata": {},
   "outputs": [],
   "source": [
    "#generate_children\n",
    "xo=[]\n",
    "yo=[]\n",
    "xx=[]\n",
    "yy=[]\n",
    "def get_children(current_node):\n",
    "    \n",
    "    global error,xo,yo\n",
    "    \n",
    "    state = current_node.state #get the pose of the robot\n",
    "    \n",
    "    \n",
    "    children = [] #possible childrens\n",
    "    cc = current_node.children #get all the children children\n",
    "\n",
    "\n",
    "    for i in range(3):\n",
    "         \n",
    "        if(len(cc)!=3):\n",
    "            print(current_node)\n",
    "            print(len(cc))\n",
    "            print(current_node.state)\n",
    "            print(cc)\n",
    "            error = current_node\n",
    "        if(cc[i]==0):\n",
    "            #its a null node. It was outside the grid. We skip it\n",
    "            continue   \n",
    "            \n",
    "        child_node = cc[i]  \n",
    "        '''\n",
    "        if(child_node.edcost_pc == float('inf') ):  #this step is the major step which doesn't allow the tree to grow.\n",
    "            #so this doesn't allow collision graph changes to go. Well we don't care na.\n",
    "            #skip the colliding one. Don't add it.\n",
    "            continue  #maybe don't add this dumbass. aaah just check for now.\n",
    "            #print('is colliding')\n",
    "            \n",
    "            #this above skipping doesn't allow the node to be considered for graph update.\n",
    "        \n",
    "        '''\n",
    "        #print(child_node.parent)\n",
    "        if(child_node.parent==0): #reaching the node for the first time . Most important path of the algorithm\n",
    "            child_node.parent = current_node\n",
    "     \n",
    "        else:\n",
    "            if(child_node.rhs>(current_node.rhs+child_node.edcost_pc) and child_node.parent!=current_node): #if node is already present\n",
    "                #check if it can become the child\n",
    "                child_node.parent = current_node\n",
    "                #child_node.edcost_pc = 1.2 # also this. no more setting this up. I think it should be removed.\n",
    "                \n",
    "\n",
    "        \n",
    "        \n",
    "        children.append(child_node)\n",
    "        \n",
    "\n",
    "    return children#return the possible childrens"
   ]
  },
  {
   "cell_type": "code",
   "execution_count": 62,
   "metadata": {},
   "outputs": [],
   "source": [
    "flow = [0,0]\n",
    "gu = 0\n",
    "error = 0\n",
    "def compute_shortest_path(): #version 2 . Worst time complextiy is 3(N+log(N))\n",
    "    \n",
    "    \n",
    "    mh=1000000\n",
    "    i=1\n",
    "    global gu,U,u_index\n",
    "    #while(U[0][0]<calckey(start_node) or start_node.rhs!=start_node.g_cost):\n",
    "    while(len(U)!=0):\n",
    "        \n",
    "        #print(\"U here ------------------------------------------------------------------------------------------------------\")\n",
    "        #print(\"U here ------------------------------------------------------------------------------------------------------\")\n",
    "        \n",
    "        #print_u()\n",
    "\n",
    "        i+=1\n",
    "        if(i%15000==0):\n",
    "            return [False,i] #return failure\n",
    "        #print(\"U list below\")\n",
    "        #for uu in U:\n",
    "        #    print(uu[2])\n",
    "            \n",
    "        u = hq.heappop(U) #get the top element of priority quee\n",
    "        u[2].is_U = False\n",
    "        \n",
    "        \n",
    "        gu = u\n",
    "        #print(\"popping ====================================================================================================\")\n",
    "        #print(\"poped \",u[2])\n",
    "        \n",
    "\n",
    "        #clear_output(wait=True)\n",
    "        \n",
    "        manhattan  = np.sum(np.abs(u[2].state[0:2]))-1\n",
    "        #print(manhattan)\n",
    "        if(mh>manhattan or i<10):\n",
    "            #print(i,u[2].state)\n",
    "            mh = manhattan\n",
    "            \n",
    "            #continue #wtf is this  :< this wasted my 5 days in debugging. Stupid start debugging from top not bottom.                    \n",
    "      \n",
    "        if(u[2].g_cost>u[2].rhs):\n",
    "            #print(u,\"u[2].gost>u[2].rhs skipping\")\n",
    "            u[2].g_cost = round(u[2].rhs,2) #this prevents error if there is infintesimally small\n",
    "            # difference in fcosts of two nodes\n",
    "            #u[2].g_cost = u[2].rhs use this if you wanna see why the rounding was done\n",
    "            #generate children here. And set their parent as u[1]\n",
    "            childs = get_children(u[2])\n",
    "            #print(\"poped children\")\n",
    "            for child in childs:\n",
    "                #print(child)\n",
    "                update_vertex(child) #update the vertex of its children 3(N+log(N)) , this updates its rhs value.\n",
    "\n",
    "        else:\n",
    "            u[2].g_cost = float('inf') #its over consistent\n",
    "            #print(\"poping children for inconsistency\")\n",
    "            #if(u[2].parent==0):\n",
    "            #    continue\n",
    "            update_vertex(u[2]) #update the parent also.\n",
    "            childs = get_children(u[2])\n",
    "            for child in childs:\n",
    "                update_vertex(child) #update the vertex of its children 3(N+log(N))\n",
    "                \n",
    "        if(goal_condition(u[2]) and (u[2].rhs+u[2].g_cost)!=float('inf')):\n",
    "            return [True,i] #success  \n",
    "        \n",
    "    return [False, i]      \n",
    "        \n",
    "            "
   ]
  },
  {
   "cell_type": "code",
   "execution_count": 81,
   "metadata": {},
   "outputs": [],
   "source": [
    "\n",
    "xc = []\n",
    "yc =[]\n",
    "#changed nodes while colliding\n",
    "\n",
    "#xo means changed node which are now open or collision free\n",
    "\n",
    "#xc means colliding ::: xo means currently open\n",
    "def plot_graph():\n",
    "    global spheres_pos,spheres_vel,xo,yo,xw,yw,xx,yy,rec,pcount,start_pose,rec,xc,yc,gtime,nx,ny\n",
    "\n",
    "    fig = plt.figure()\n",
    "    axes = fig.add_subplot(111)\n",
    "    #draw obstacles\n",
    "    \n",
    "    for pos,vel in zip(spheres_pos,spheres_vel):\n",
    "        #pos = sphere.get_position()\n",
    "        circle = plt.Circle((pos[0], pos[1]), obs_dia/2, color='gray')\n",
    "        axes.add_patch(circle)\n",
    "        #vel = sphere.get_velocity()\n",
    "        axes.arrow(pos[0], pos[1],vel[0]*10,vel[1]*10, head_width=0.5, head_length=0.3, fc='k', ec='k')\n",
    "    \n",
    "    #print(\"rectangle is \",rec)\n",
    "    rect = patches.Rectangle((rec.x, rec.y), rec.width, rec.height, linewidth=1, edgecolor='r', facecolor='none') \n",
    "    axes.add_patch(rect) #draw the concerened area\n",
    "\n",
    "    #plot the waypoint path   \n",
    "    axes.plot(xx,yy)\n",
    "\n",
    "    #print(\"len xo\",len(xo))\n",
    "    \n",
    "    #print(\"in plot\",xo)\n",
    "    axes.scatter([start_pose[0]],[start_pose[1]],150,'blue',label= 'start')\n",
    "    axes.scatter(xw,yw,50,'red',label='way-point_collision') #plot waypoint collision\n",
    "    axes.scatter([goal_pose[0]],[goal_pose[1]],150,'green')\n",
    "    axes.scatter(xx,yy,30,'green',label='way-points')\n",
    "    axes.scatter(nx,ny,5,'tan',label='non - trevarsable')\n",
    "    nx = []\n",
    "    ny = []\n",
    "    \n",
    "    axes.set_xlim([-2,30])\n",
    "    axes.set_ylim([-2,15])\n",
    "    leg = axes.legend(loc =\"lower right\");\n",
    "    axes.set_aspect(aspect=1)\n",
    "    plt.title(\"Scenario snap at \" + str(round(gtime,2))+\" sec\")\n",
    "    plt.savefig(\"Simulation_raw_results/\"+str(pcount))\n",
    "    pcount+=1\n",
    "    \n",
    "    plt.show()\n",
    "    "
   ]
  },
  {
   "cell_type": "code",
   "execution_count": null,
   "metadata": {},
   "outputs": [],
   "source": [
    "\n",
    "xc = []\n",
    "yc =[]\n",
    "#changed nodes while colliding\n",
    "\n",
    "#xo means changed node which are now open or collision free\n",
    "\n",
    "#xc means colliding ::: xo means currently open\n",
    "def plot_graphh():\n",
    "    global spheres_pos,spheres_vel,xo,yo,xw,yw,xx,yy,rec,pcount,start_pose,rec,xc,yc,gtime\n",
    "\n",
    "    fig = plt.figure()\n",
    "    axes = fig.add_subplot(111)\n",
    "    #draw obstacles\n",
    "    \n",
    "    for pos,vel in zip(spheres_pos,spheres_vel):\n",
    "        #pos = sphere.get_position()\n",
    "        circle = plt.Circle((pos[0], pos[1]), obs_dia/2, color='gray')\n",
    "        axes.add_patch(circle)\n",
    "        #vel = sphere.get_velocity()\n",
    "        axes.arrow(pos[0], pos[1],vel[0]*10,vel[1]*10, head_width=0.5, head_length=0.3, fc='k', ec='k')\n",
    "    \n",
    "    #print(\"rectangle is \",rec)\n",
    "    rect = patches.Rectangle((rec.x, rec.y), rec.width, rec.height, linewidth=1, edgecolor='r', facecolor='none') \n",
    "    axes.add_patch(rect) #draw the concerened area\n",
    "\n",
    "    #plot the waypoint path   \n",
    "    axes.plot(xx,yy)\n",
    "\n",
    "    #print(\"len xo\",len(xo))\n",
    "    \n",
    "    #print(\"in plot\",xo)\n",
    "    axes.scatter([start_pose[0]],[start_pose[1]],150,'blue',label= 'start')\n",
    "    axes.scatter(xw,yw,50,'red',label='way-point_collision') #plot waypoint collision\n",
    "    axes.scatter([goal_pose[0]],[goal_pose[1]],150,'green')\n",
    "    axes.scatter(xx,yy,30,'green',label='way-points')\n",
    "    axes.scatter(xo,yo,5,'olive',label='became free')\n",
    "    axes.scatter(xc,yc,5,'orange',label='became non-traversable')\n",
    "    \n",
    "    axes.set_xlim([-2,30])\n",
    "    axes.set_ylim([-2,15])\n",
    "    leg = axes.legend(loc =\"lower right\");\n",
    "    axes.set_aspect(aspect=1)\n",
    "    plt.title(\"Scenario snap at \" + str(round(gtime,2))+\" sec\")\n",
    "    plt.savefig(\"Simulation_raw_results/\"+str(pcount))\n",
    "    pcount+=1\n",
    "    \n",
    "    plt.show()\n",
    "    "
   ]
  },
  {
   "cell_type": "code",
   "execution_count": 48,
   "metadata": {},
   "outputs": [
    {
     "data": {
      "image/png": "[encoded data removed]",
      "text/plain": [
       "<Figure size 432x288 with 1 Axes>"
      ]
     },
     "metadata": {
      "needs_background": "light"
     },
     "output_type": "display_data"
    }
   ],
   "source": [
    "plot_graph()"
   ]
  },
  {
   "cell_type": "code",
   "execution_count": 32,
   "metadata": {},
   "outputs": [],
   "source": [
    "def plot_obs():\n",
    "    global xrr,yrr,spheres_pos,spheres_vel,xo,yo,xw,yw\n",
    "    axes = plt.gca()\n",
    "       #draw obstacles\n",
    "    for pos,vel in zip(spheres_pos,spheres_vel):\n",
    "        #pos = sphere.get_position()\n",
    "        circle = plt.Circle((pos[0], pos[1]), obs_dia/2, color='gray')\n",
    "        #axes.add_patch(circle)\n",
    "        #vel = sphere.get_velocity()\n",
    "        axes.arrow(pos[0], pos[1],vel[0]*10,vel[1]*10, head_width=0.5, head_length=0.3, fc='k', ec='k')\n",
    "        plt.plot(xx,yy)\n",
    "    #plt.scatter(xrr,yrr,5,'red')\n",
    "    plt.scatter(xo,yo,1,'tan')\n",
    "    plt.scatter(xw,yw,50,'red') #plot waypoint collision\n",
    "    plt.scatter([goal_pose[0]],[goal_pose[1]],100,'green')\n",
    "    axes.set_xlim([-2,15])\n",
    "    axes.set_ylim([-2,15])\n",
    "    axes.set_aspect(aspect=0.5)\n",
    "    plt.savefig('Obs_1')\n",
    "    plt.show()"
   ]
  },
  {
   "cell_type": "code",
   "execution_count": 33,
   "metadata": {},
   "outputs": [],
   "source": [
    "def update_obmap():\n",
    "    global spheres,spheres_pos,spheres_vel\n",
    "    spheres_pos=[]\n",
    "    spheres_vel=[]\n",
    "    #load the spheres. This stores an image of the obstacles and lets the algorithm complete\n",
    "    for sphere in spheres:\n",
    "        spheres_pos.append(sphere.get_position())\n",
    "        vel = sphere.get_velocity()\n",
    "        spheres_vel.append(vel[0])\n",
    "        \n",
    "    "
   ]
  },
  {
   "cell_type": "code",
   "execution_count": 34,
   "metadata": {},
   "outputs": [],
   "source": [
    "def get_waypoints(curr_node):\n",
    "    global xx,yy\n",
    "    w_nodes = [] #to store waypoint node pointers\n",
    "    w_nodes.append(curr_node)\n",
    "    xx = []\n",
    "    yy = []\n",
    "\n",
    "    while(curr_node.parent!=0):\n",
    "        curr_node= curr_node.parent\n",
    "        w_nodes.append(curr_node) #add the current node to the list\n",
    "        xx.append(curr_node.state[0])\n",
    "        yy.append(curr_node.state[1])\n",
    "    return w_nodes #return the new way_nodes list\n",
    "    "
   ]
  },
  {
   "cell_type": "code",
   "execution_count": 83,
   "metadata": {
    "scrolled": true,
    "tags": []
   },
   "outputs": [],
   "source": [
    "nx = []\n",
    "ny = []\n",
    "\n",
    "rec = rectangle(0,0,0,0) #define a rectangle\n",
    "def update_map():\n",
    "    global all_nodes,s_x,s_th,start_pose,xo,yo,rec,win,xc,yc\n",
    "    c=0\n",
    "    \n",
    "    theta = start_pose[2] #get orientation.\n",
    "    #bring the rectangle such that robot heading covers max area.\n",
    "    x = rec.x\n",
    "    y = rec.y\n",
    "    #width = min(win+rx,13) - rec.x\n",
    "    #height = min(win+ry,13) - rec.y\n",
    "    #win is the halflength of the window\n",
    "    #create a square \n",
    "    cl = int(x*s_x) #column left   column is axis\n",
    "    cr = int(min(x+2*win,14)*s_x) #column right\n",
    "   \n",
    "    rd = int(y*s_x)#row down\n",
    "    ru = int(min(y+2*win,14)*s_x) \n",
    "    \n",
    "    #print(cl/s_x,cr/s_x,ru/s_x,rd/s_x)\n",
    "    #print(\"in update map pose is \",start_pose)\n",
    "\n",
    "    \n",
    "    \n",
    "    xo = []; yo = []; xc=[]; yc=[];\n",
    "    should_update  = False\n",
    "    for i in range(cl,cr):\n",
    "        for j in range(rd,ru):\n",
    "            nd_c = grid[i][j][:] #get the nodes --> this is wrong, this is not action space\n",
    "            snd = nd_c[0] #take a sample node.\n",
    "            \n",
    "            edgecost_update = check_collision_edge(snd) #just get the updated edge cost of only one, no need to check all\n",
    "            # above line would change for different function\n",
    "            state = snd.state\n",
    "            if(edgecost_update!=1.2):\n",
    "                nx.append(state[0])\n",
    "                ny.append(state[1])\n",
    "            \n",
    "            \n",
    "            edge_cost = snd.edcost_pc #get the edge cost\n",
    "            \n",
    "\n",
    "            if(edge_cost!=edgecost_update):\n",
    "                #This means that edgecost has changed\n",
    "                for nd in nd_c: #complexity N(Nu+log(Nu)) for all node in that orientation.\n",
    "                    nd.edcost_pc = edgecost_update\n",
    "                    if(nd.parent!=0):\n",
    "                        nd.updateno+=1\n",
    "                        update_vertex(nd) #update the vertex if it has a parent.\n",
    "                        \n",
    "                \n",
    "            c+=1  \n",
    "    #print(\"nodes in rec x3 \",c)"
   ]
  },
  {
   "cell_type": "code",
   "execution_count": 36,
   "metadata": {},
   "outputs": [],
   "source": [
    "rec = rectangle(0,0,0,0) #define a rectangle\n",
    "def update_map_old():\n",
    "    global all_nodes,s_x,s_th,start_pose,xo,yo,rec,win,xc,yc\n",
    "    c=0\n",
    "    #win is the halflength of the window\n",
    "    #create a square \n",
    "    cl = int(max(start_pose[0]-win,0)*s_x) #column left   column is axis\n",
    "    cr = int(min(start_pose[0]+win,14)*s_x) #column right\n",
    "    ru = int(min(start_pose[1]+win,14)*s_x)\n",
    "    rd = int(max(start_pose[1]-win,0)*s_x) #row down\n",
    "    \n",
    "    #print(\"in update map pose is \",start_pose)\n",
    "\n",
    "    \n",
    "    \n",
    "    xo = []; yo = []; xc=[]; yc=[];\n",
    "    should_update  = False\n",
    "    for i in range(cl,cr):\n",
    "        for j in range(rd,ru):\n",
    "            nd_c = grid[i][j][:] #get the nodes --> this is wrong, this is not action space\n",
    "            snd = nd_c[0] #take a sample node.\n",
    "            \n",
    "            edgecost_update = check_collision_edge(snd) #just get the updated edge cost of only one, no need to check all\n",
    "            # above line would change for different function\n",
    "\n",
    "            \n",
    "            state = snd.state\n",
    "            edge_cost = snd.edcost_pc #get the edge cost\n",
    "            \n",
    "\n",
    "            if(edge_cost!=edgecost_update):\n",
    "                #This means that edgecost has changed\n",
    "                if(edgecost_update==1.2):\n",
    "                    #add non colliding\n",
    "                    xo.append(state[0])\n",
    "                    yo.append(state[1])\n",
    "                else:\n",
    "                    #add colliding\n",
    "                    xc.append(state[0])\n",
    "                    yc.append(state[1])\n",
    "\n",
    "                for nd in nd_c: #complexity N(Nu+log(Nu)) for all node in that orientation.\n",
    "                    nd.edcost_pc = edgecost_update\n",
    "                    if(nd.parent!=0):\n",
    "                        \n",
    "                        nd.updateno+=1\n",
    "                        update_vertex(nd) #update the vertex if it has a parent.\n",
    "                        \n",
    "                \n",
    "            c+=1  \n",
    "    #print(\"nodes in rec x3 \",c)"
   ]
  },
  {
   "cell_type": "code",
   "execution_count": 11,
   "metadata": {},
   "outputs": [],
   "source": [
    "sim=False\n",
    "sim=True\n",
    "t1 = threading.Thread(target=dumrum)\n",
    "t1.daemon = True\n",
    "t1.start()"
   ]
  },
  {
   "cell_type": "code",
   "execution_count": null,
   "metadata": {},
   "outputs": [],
   "source": []
  },
  {
   "cell_type": "code",
   "execution_count": 92,
   "metadata": {},
   "outputs": [],
   "source": [
    "c=0\n",
    "xw = []\n",
    "yw = []#waypoint collision\n",
    "last_state = [0,0,0]\n",
    "rexp = [];\n",
    "rtime=[];\n",
    "stime=[];\n",
    "def run_robot():\n",
    "    \n",
    "    #set the waypoint\n",
    "    global way_nodes,start_node,start_pose,c,xw,yw,last_state,rexp,rtime,rec,stime,win\n",
    "    #way_nodes = get_waypoints(gu[2])\n",
    "    rexp = [];\n",
    "    rtime=[];\n",
    "    replans=0;\n",
    "    stime =[]\n",
    "    i=0\n",
    "    l=len(way_nodes)\n",
    "    #print(\"num in run_robot\",l)\n",
    "    \n",
    "    point = way_nodes[i].state\n",
    "    wpoint.set_position([point[0],point[1],0.5])\n",
    "    toggle = True\n",
    "    hit = False #check whether the robot path is hitting \n",
    "\n",
    "   \n",
    "    l1 = min(i+5,l-1)\n",
    "    \n",
    "    while(i<l):\n",
    "        #pr.step()\n",
    "        #calculate whether robot is reached the waypoint\n",
    "        dp = link.get_position(wpoint)\n",
    "        dis = math.sqrt(dp[0]**2 + dp[1]**2)\n",
    "        \n",
    "        l1 = min(i+int(win/1.2),len(way_nodes)-1)\n",
    "        if(dis>0.2):\n",
    "\n",
    "            #implement collision checks\n",
    "            for windex in range(i+1,l1):\n",
    "            \n",
    "                wstate = way_nodes[windex].state\n",
    "       \n",
    "                if(check_collision_w(way_nodes[windex])): #check using real time position, real time velocity\n",
    "                    update_obmap()\n",
    "              \n",
    "                    xw.append(way_nodes[windex].state[0])\n",
    "                    yw.append(way_nodes[windex].state[1])\n",
    "                    print(\"collision detected =============================================================\")\n",
    "                    print(way_nodes[windex].state)\n",
    "                  \n",
    "                    \n",
    "                    print(\"rescan =============================================================\")\n",
    "                    #scan the graph for changes\n",
    "                    \n",
    "                    start = time.time()\n",
    "                    update_map()\n",
    "                    plot_graph()\n",
    "                    end = time.time()\n",
    "                    dt = (end-start)*1000\n",
    "                    stime.append(dt)\n",
    "                    print(\"rescan time = \",dt)\n",
    "                    xw = []\n",
    "                    yw = [] \n",
    "                    \n",
    "                    \n",
    "                    last_state = start_pose.copy()\n",
    "                    #run compute cost\n",
    "\n",
    "                    #print(\"start position was \",start_pose)\n",
    "                    print(\"replanning ============================================================================\")\n",
    "                    start = time.time()\n",
    "                    result = compute_shortest_path()\n",
    "                    end = time.time()\n",
    "                    if(not result[0]): #complextity(3(Nu+log(Nu))) per loop\n",
    "                        print(\"Failure\")\n",
    "                        pr.stop()\n",
    "                        return\n",
    "                    else:\n",
    "                        print(\"Expanded nodes \",result[1], \"Replan time ms\",((end-start)*1000))\n",
    "                        rexp.append(result[1])\n",
    "                        rtime.append(int((end-start)*1000))\n",
    "\n",
    "                    \n",
    "\n",
    "                    #get the list of new way points\n",
    "\n",
    "                    way_nodes = get_waypoints(gu[2])\n",
    "                    \n",
    "                    plot_graph()\n",
    "                    '''\n",
    "                    for n in way_nodes:\n",
    "                           print(\"Is in U\",n.is_U,\" keyself\",n.keyself[0][0],\", edgecost\",n.edcost_pc,\" rhs\",n.rhs,\" gcost\",n.g_cost,\" updateno\",n.updateno) \n",
    "                    '''\n",
    "                    #set i =0  and l = len(way_nodes)\n",
    "\n",
    "                    i=0\n",
    "                    l = len(way_nodes)\n",
    "                \n",
    "                \n",
    "                        \n",
    "                        \n",
    "        \n",
    "        if(dis<0.2):\n",
    "            switch = False\n",
    "            print(\"Waypoint changing |||||||||||||||||||||||||||||||||||||||||||||||||||||||||||||||||||||||||||||||\")\n",
    "            i+=1\n",
    "            if(i==l):\n",
    "                break\n",
    "            point = way_nodes[i].state\n",
    "            wpoint.set_position([point[0],point[1],0.5]) #update the waypoint\n",
    "            #update the start node\n",
    "            \n",
    "            start_node = way_nodes[i]  #change it to grid node for velocity obstacles.\n",
    "            start_pose = way_nodes[i].state\n",
    "            \n",
    "             #first update rectangle\n",
    "            \n",
    "            theta = start_pose[2] #get orientation.\n",
    "            rx = start_pose[0] + win*math.cos(theta)\n",
    "            ry = start_pose[1] + win*math.sin(theta) #bring the rectangle such that robot heading covers max area.\n",
    "            shiftx = max(0,win+rx-14)\n",
    "            shifty = max(0,win+ry-14)\n",
    "            rec.x = max(rx-win-shiftx,0)\n",
    "            rec.y = max(ry-win-shifty,0)\n",
    "            rec.width = min(win+rx,14) - rec.x\n",
    "            rec.height = min(win+ry,14) - rec.y\n",
    "            update_obmap()\n",
    "            plot_graph()\n",
    "        \n",
    "        \n",
    "        \n",
    "    print(\"no of replans \",replans)   \n",
    "    print(\"renodes\",rexp)\n",
    "    print(\"retime\",rtime)\n",
    "    rr = np.array(rexp)\n",
    "    \n",
    "    print(\"mean nodes\",np.mean(rr))\n",
    "    print(\"mean replanning time\",np.mean(rtime))\n",
    "    print(\"rescanning time\",stime)\n",
    "    "
   ]
  },
  {
   "cell_type": "code",
   "execution_count": 196,
   "metadata": {},
   "outputs": [
    {
     "name": "stdout",
     "output_type": "stream",
     "text": [
      "here\n"
     ]
    }
   ],
   "source": [
    "destroyspheres()\n",
    "pr.step()"
   ]
  },
  {
   "cell_type": "code",
   "execution_count": 197,
   "metadata": {},
   "outputs": [],
   "source": [
    "num_obs = 10\n",
    "obs_dia = 1.5\n",
    "generate_spheres(obs_dia,num_obs)\n",
    "pr.step()"
   ]
  },
  {
   "cell_type": "code",
   "execution_count": 194,
   "metadata": {},
   "outputs": [],
   "source": [
    "plt.close(\"all\")"
   ]
  },
  {
   "cell_type": "code",
   "execution_count": 96,
   "metadata": {},
   "outputs": [
    {
     "name": "stdout",
     "output_type": "stream",
     "text": [
      "prep time 161.37933731079102\n",
      "computing shortest distance\n",
      "num way_points 13\n",
      "[True, 35]\n",
      "3.9505958557128906\n",
      "Expanded nodes  35\n"
     ]
    },
    {
     "data": {
      "image/png": "[encoded data removed]",
      "text/plain": [
       "<Figure size 432x288 with 1 Axes>"
      ]
     },
     "metadata": {
      "needs_background": "light"
     },
     "output_type": "display_data"
    },
    {
     "name": "stdout",
     "output_type": "stream",
     "text": [
      "num way_points after graph 13\n",
      "Waypoint changing |||||||||||||||||||||||||||||||||||||||||||||||||||||||||||||||||||||||||||||||\n"
     ]
    },
    {
     "data": {
      "image/png": "[encoded data removed]",
      "text/plain": [
       "<Figure size 432x288 with 1 Axes>"
      ]
     },
     "metadata": {
      "needs_background": "light"
     },
     "output_type": "display_data"
    },
    {
     "name": "stdout",
     "output_type": "stream",
     "text": [
      "Waypoint changing |||||||||||||||||||||||||||||||||||||||||||||||||||||||||||||||||||||||||||||||\n"
     ]
    },
    {
     "data": {
      "image/png": "[encoded data removed]",
      "text/plain": [
       "<Figure size 432x288 with 1 Axes>"
      ]
     },
     "metadata": {
      "needs_background": "light"
     },
     "output_type": "display_data"
    },
    {
     "name": "stdout",
     "output_type": "stream",
     "text": [
      "Waypoint changing |||||||||||||||||||||||||||||||||||||||||||||||||||||||||||||||||||||||||||||||\n"
     ]
    },
    {
     "data": {
      "image/png": "[encoded data removed]",
      "text/plain": [
       "<Figure size 432x288 with 1 Axes>"
      ]
     },
     "metadata": {
      "needs_background": "light"
     },
     "output_type": "display_data"
    },
    {
     "name": "stdout",
     "output_type": "stream",
     "text": [
      "Waypoint changing |||||||||||||||||||||||||||||||||||||||||||||||||||||||||||||||||||||||||||||||\n"
     ]
    },
    {
     "data": {
      "image/png": "[encoded data removed]",
      "text/plain": [
       "<Figure size 432x288 with 1 Axes>"
      ]
     },
     "metadata": {
      "needs_background": "light"
     },
     "output_type": "display_data"
    },
    {
     "name": "stdout",
     "output_type": "stream",
     "text": [
      "collision detected =============================================================\n",
      "[6.         7.         0.78539816]\n",
      "rescan =============================================================\n"
     ]
    },
    {
     "data": {
      "image/png": "[encoded data removed]",
      "text/plain": [
       "<Figure size 432x288 with 1 Axes>"
      ]
     },
     "metadata": {
      "needs_background": "light"
     },
     "output_type": "display_data"
    },
    {
     "name": "stdout",
     "output_type": "stream",
     "text": [
      "rescan time =  1715.7928943634033\n",
      "replanning ============================================================================\n",
      "Expanded nodes  154 Replan time ms 21.805763244628906\n"
     ]
    },
    {
     "data": {
      "image/png": "[encoded data removed]",
      "text/plain": [
       "<Figure size 432x288 with 1 Axes>"
      ]
     },
     "metadata": {
      "needs_background": "light"
     },
     "output_type": "display_data"
    },
    {
     "name": "stdout",
     "output_type": "stream",
     "text": [
      "Waypoint changing |||||||||||||||||||||||||||||||||||||||||||||||||||||||||||||||||||||||||||||||\n"
     ]
    },
    {
     "data": {
      "image/png": "[encoded data removed]",
      "text/plain": [
       "<Figure size 432x288 with 1 Axes>"
      ]
     },
     "metadata": {
      "needs_background": "light"
     },
     "output_type": "display_data"
    },
    {
     "name": "stdout",
     "output_type": "stream",
     "text": [
      "collision detected =============================================================\n",
      "[2.8        8.4        1.57079633]\n",
      "rescan =============================================================\n"
     ]
    },
    {
     "data": {
      "image/png": "[encoded data removed]",
      "text/plain": [
       "<Figure size 432x288 with 1 Axes>"
      ]
     },
     "metadata": {
      "needs_background": "light"
     },
     "output_type": "display_data"
    },
    {
     "name": "stdout",
     "output_type": "stream",
     "text": [
      "rescan time =  1637.0186805725098\n",
      "replanning ============================================================================\n",
      "Failure\n"
     ]
    }
   ],
   "source": [
    "#pr.start()\n",
    "#set_obstacles() #set random position of obstacles.\n",
    "#gx = 7;gy=7;\n",
    "obs_dia = 1.5\n",
    "safe_dis = 0.2\n",
    "eel_vel = 0.167\n",
    "pr.stop()\n",
    "pr.step()\n",
    "pcount = 0\n",
    "win = 4\n",
    "#pr.stop()\n",
    "start = time.time()\n",
    "flush_grid()\n",
    "end = time.time()\n",
    "print(\"prep time\", (end-start)*1000)\n",
    "init(False)\n",
    "update_obmap()\n",
    "theta = start_pose[2] #get orientation.\n",
    "rx = start_pose[0] + win*math.cos(theta)\n",
    "ry = start_pose[1] + win*math.sin(theta) #bring the rectangle such that robot heading covers max area.\n",
    "rec.x = max(rx-win,0)\n",
    "rec.y = max(ry-win,0)\n",
    "rec.width = min(win+rx,13) - rec.x\n",
    "rec.height = min(win+ry,13) - rec.y\n",
    "pr.start()\n",
    "gtime = 0 #make the time zero\n",
    "time.sleep(1)\n",
    "update_map() #this updates  the edge_cost first look everywhere\n",
    "#where is the spheres updates here.\n",
    "start = time.time()\n",
    "print(\"computing shortest distance\")\n",
    "result = compute_shortest_path()\n",
    "way_nodes = get_waypoints(gu[2])\n",
    "print(\"num way_points\",len(way_nodes))\n",
    "print(result)\n",
    "end = time.time()\n",
    "print((end-start)*1000)\n",
    "\n",
    "\n",
    "if(not result[0]):\n",
    "    print(\"failure\")\n",
    "    pr.stop()\n",
    "else:\n",
    "    print(\"Expanded nodes \",result[1])\n",
    "    plot_graph()\n",
    "    print(\"num way_points after graph\",len(way_nodes))\n",
    "#plt.savefig('Trajectory_1')\n",
    "    win =4\n",
    "    run_robot()\n",
    "    pr.stop()\n",
    "\n"
   ]
  },
  {
   "cell_type": "code",
   "execution_count": 76,
   "metadata": {},
   "outputs": [
    {
     "data": {
      "image/png": "[encoded data removed]",
      "text/plain": [
       "<Figure size 432x288 with 1 Axes>"
      ]
     },
     "metadata": {
      "needs_background": "light"
     },
     "output_type": "display_data"
    }
   ],
   "source": [
    "pr.step()\n",
    "#update_obmap()\n",
    "start_pose = [5,5,math.pi/4]\n",
    "update_map()\n",
    "plot_graph()"
   ]
  },
  {
   "cell_type": "code",
   "execution_count": 77,
   "metadata": {},
   "outputs": [
    {
     "data": {
      "text/plain": [
       "75"
      ]
     },
     "execution_count": 77,
     "metadata": {},
     "output_type": "execute_result"
    }
   ],
   "source": [
    "len(grid)"
   ]
  },
  {
   "cell_type": "code",
   "execution_count": 184,
   "metadata": {},
   "outputs": [],
   "source": [
    "def plot_obsmap():\n",
    "    \n",
    "    global spheres_pos,spheres_vel,start_pose,safe_dis,eel_vel\n",
    "\n",
    "    fig = plt.figure()\n",
    "    axes = fig.add_subplot(111)\n",
    "    #draw obstacles\n",
    "    \n",
    "    xc = []\n",
    "    yc = []\n",
    "    for rr in range(75):\n",
    "        for cc in range(75):\n",
    "            n = grid[rr][cc][0]\n",
    "            if(check_collision(n)):\n",
    "                state = n.state\n",
    "                xc.append(state[0])\n",
    "                yc.append(state[1])\n",
    "    \n",
    "    \n",
    "    for pos,vel in zip(spheres_pos,spheres_vel):\n",
    "        #pos = sphere.get_position()\n",
    "        circle = plt.Circle((pos[0], pos[1]), obs_dia/2, color='gray')\n",
    "        axes.add_patch(circle)\n",
    "        #vel = sphere.get_velocity()\n",
    "        axes.arrow(pos[0], pos[1],vel[0]*10,vel[1]*10, head_width=0.5, head_length=0.3, fc='k', ec='k')\n",
    "    \n",
    "    #print(\"rectangle is \",rec)\n",
    "    \n",
    "   \n",
    "\n",
    "    #print(\"len xo\",len(xo))\n",
    "    \n",
    "    #print(\"in plot\",xo)\n",
    "    axes.scatter([start_pose[0]],[start_pose[1]],150,'blue',label= 'start')\n",
    "    axes.scatter([12],[12],150,'green',label= 'Goal')\n",
    "    axes.scatter(xc,yc,10,'tan',label= 'colliding')\n",
    "    print(start_pose)\n",
    "    \n",
    "    axes.set_xlim([-2,30])\n",
    "    axes.set_ylim([-2,15])\n",
    "    leg = axes.legend(loc =\"lower right\");\n",
    "    axes.set_aspect(aspect=1)\n",
    "    #plt.title(\"Eel_vel  = \"+str(round(eel_vel,2)))\n",
    "    plt.title(\"Safe_dis  = \"+str(round(safe_dis,2)))\n",
    "    plt.savefig(\"Safe_dis/\"+str(int(safe_dis*10)))\n",
    "    plt.show()\n",
    "    "
   ]
  },
  {
   "cell_type": "code",
   "execution_count": 155,
   "metadata": {},
   "outputs": [
    {
     "data": {
      "text/plain": [
       "2.22"
      ]
     },
     "execution_count": 155,
     "metadata": {},
     "output_type": "execute_result"
    }
   ],
   "source": [
    "round(2.22222,2)"
   ]
  },
  {
   "cell_type": "code",
   "execution_count": 120,
   "metadata": {},
   "outputs": [],
   "source": [
    "for ss in spheres_vel:\n",
    "    ss[0]=0\n",
    "    ss[1]=0\n",
    "    ss[2]=0"
   ]
  },
  {
   "cell_type": "code",
   "execution_count": 185,
   "metadata": {},
   "outputs": [
    {
     "name": "stdout",
     "output_type": "stream",
     "text": [
      "1\n",
      "[0, 0, 0.7853981633974483]\n"
     ]
    },
    {
     "data": {
      "image/png": "[encoded data removed]",
      "text/plain": [
       "<Figure size 432x288 with 1 Axes>"
      ]
     },
     "metadata": {
      "needs_background": "light"
     },
     "output_type": "display_data"
    },
    {
     "name": "stdout",
     "output_type": "stream",
     "text": [
      "2\n",
      "[0, 0, 0.7853981633974483]\n"
     ]
    },
    {
     "data": {
      "image/png": "[encoded data removed]",
      "text/plain": [
       "<Figure size 432x288 with 1 Axes>"
      ]
     },
     "metadata": {
      "needs_background": "light"
     },
     "output_type": "display_data"
    },
    {
     "name": "stdout",
     "output_type": "stream",
     "text": [
      "3\n",
      "[0, 0, 0.7853981633974483]\n"
     ]
    },
    {
     "data": {
      "image/png": "[encoded data removed]",
      "text/plain": [
       "<Figure size 432x288 with 1 Axes>"
      ]
     },
     "metadata": {
      "needs_background": "light"
     },
     "output_type": "display_data"
    },
    {
     "name": "stdout",
     "output_type": "stream",
     "text": [
      "4\n",
      "[0, 0, 0.7853981633974483]\n"
     ]
    },
    {
     "data": {
      "image/png": "[encoded data removed]",
      "text/plain": [
       "<Figure size 432x288 with 1 Axes>"
      ]
     },
     "metadata": {
      "needs_background": "light"
     },
     "output_type": "display_data"
    },
    {
     "name": "stdout",
     "output_type": "stream",
     "text": [
      "5\n",
      "[0, 0, 0.7853981633974483]\n"
     ]
    },
    {
     "data": {
      "image/png": "[encoded data removed]",
      "text/plain": [
       "<Figure size 432x288 with 1 Axes>"
      ]
     },
     "metadata": {
      "needs_background": "light"
     },
     "output_type": "display_data"
    },
    {
     "name": "stdout",
     "output_type": "stream",
     "text": [
      "6\n",
      "[0, 0, 0.7853981633974483]\n"
     ]
    },
    {
     "data": {
      "image/png": "[encoded data removed]",
      "text/plain": [
       "<Figure size 432x288 with 1 Axes>"
      ]
     },
     "metadata": {
      "needs_background": "light"
     },
     "output_type": "display_data"
    },
    {
     "name": "stdout",
     "output_type": "stream",
     "text": [
      "7\n",
      "[0, 0, 0.7853981633974483]\n"
     ]
    },
    {
     "data": {
      "image/png": "[encoded data removed]",
      "text/plain": [
       "<Figure size 432x288 with 1 Axes>"
      ]
     },
     "metadata": {
      "needs_background": "light"
     },
     "output_type": "display_data"
    },
    {
     "name": "stdout",
     "output_type": "stream",
     "text": [
      "8\n",
      "[0, 0, 0.7853981633974483]\n"
     ]
    },
    {
     "data": {
      "image/png": "[encoded data removed]",
      "text/plain": [
       "<Figure size 432x288 with 1 Axes>"
      ]
     },
     "metadata": {
      "needs_background": "light"
     },
     "output_type": "display_data"
    },
    {
     "name": "stdout",
     "output_type": "stream",
     "text": [
      "9\n",
      "[0, 0, 0.7853981633974483]\n"
     ]
    },
    {
     "data": {
      "image/png": "[encoded data removed]",
      "text/plain": [
       "<Figure size 432x288 with 1 Axes>"
      ]
     },
     "metadata": {
      "needs_background": "light"
     },
     "output_type": "display_data"
    }
   ],
   "source": [
    "for i in range(1,10):\n",
    "    safe_dis = i/10\n",
    "    eel_vel= 0.15\n",
    "    start_pose = [0,0,math.pi/4]\n",
    "    print(i)\n",
    "    update_obmap()\n",
    "    plot_obsmap()"
   ]
  },
  {
   "cell_type": "code",
   "execution_count": null,
   "metadata": {},
   "outputs": [],
   "source": [
    "for i in range(1,20):\n",
    "    safe_dis = 0.5\n",
    "    eel_vel= i*0.01\n",
    "    start_pose = [0,0,math.pi/4]\n",
    "    print(i)\n",
    "    update_obmap()\n",
    "    plot_obsmap()"
   ]
  },
  {
   "cell_type": "code",
   "execution_count": 135,
   "metadata": {},
   "outputs": [
    {
     "name": "stdout",
     "output_type": "stream",
     "text": [
      "0.0\n",
      "0.1\n",
      "0.2\n",
      "0.3\n",
      "0.4\n",
      "0.5\n",
      "0.6\n",
      "0.7\n",
      "0.8\n",
      "0.9\n"
     ]
    }
   ],
   "source": [
    "for i in range(10):\n",
    "    safe_dis = float(i)/10\n",
    "    print(safe_dis)"
   ]
  },
  {
   "cell_type": "code",
   "execution_count": 56,
   "metadata": {},
   "outputs": [],
   "source": [
    "plt.close(\"all\")"
   ]
  },
  {
   "cell_type": "code",
   "execution_count": 2,
   "metadata": {},
   "outputs": [],
   "source": [
    "sim=False"
   ]
  },
  {
   "cell_type": "code",
   "execution_count": null,
   "metadata": {},
   "outputs": [],
   "source": [
    "pr.shutdown()"
   ]
  },
  {
   "cell_type": "code",
   "execution_count": 48,
   "metadata": {},
   "outputs": [
    {
     "ename": "SyntaxError",
     "evalue": "invalid syntax (<ipython-input-48-29f5934a3781>, line 2)",
     "output_type": "error",
     "traceback": [
      "\u001b[0;36m  File \u001b[0;32m\"<ipython-input-48-29f5934a3781>\"\u001b[0;36m, line \u001b[0;32m2\u001b[0m\n\u001b[0;31m    1) First path made is useless and if obstacle changes it would be certain collision\u001b[0m\n\u001b[0m     ^\u001b[0m\n\u001b[0;31mSyntaxError\u001b[0m\u001b[0;31m:\u001b[0m invalid syntax\n"
     ]
    }
   ],
   "source": [
    "\n",
    "# Failure cause\n",
    "1) First path made is useless and if obstacle changes it would be certain collision\n",
    "<br> 2) Collision detection prediction seems to have problem. Yes. Replanning is faster. The way-point collision is always more.\n",
    "\n",
    "# Solution\n",
    "1) Edge costs are now 1.2. The initial plan is just a straight line.\n",
    "<br> 2) The collision hull made larger for D*Lite* and smaller for way-points"
   ]
  }
 ],
 "metadata": {
  "kernelspec": {
   "display_name": "Python 3 (ipykernel)",
   "language": "python",
   "name": "python3"
  },
  "language_info": {
   "codemirror_mode": {
    "name": "ipython",
    "version": 3
   },
   "file_extension": ".py",
   "mimetype": "text/x-python",
   "name": "python",
   "nbconvert_exporter": "python",
   "pygments_lexer": "ipython3",
   "version": "3.6.9"
  }
 },
 "nbformat": 4,
 "nbformat_minor": 4
}
